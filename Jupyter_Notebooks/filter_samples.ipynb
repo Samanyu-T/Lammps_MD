{
 "cells": [
  {
   "cell_type": "code",
   "execution_count": null,
   "metadata": {},
   "outputs": [],
   "source": [
    "import numpy as np\n",
    "import matplotlib.pyplot as plt\n",
    "import sys\n",
    "import os\n",
    "sys.path.append(os.path.join('/Users/cd8607/Documents/Lammps_MD/', 'git_folder', 'Classes'))\n",
    "import EAM_Fitting_Serial\n",
    "import Handle_PotFiles\n",
    "import time\n",
    "import glob\n",
    "from scipy.optimize import minimize\n",
    "os.chdir('/Users/cd8607/Documents/Lammps_MD')\n",
    "from scipy.integrate import simpson"
   ]
  }
 ],
 "metadata": {
  "language_info": {
   "name": "python"
  }
 },
 "nbformat": 4,
 "nbformat_minor": 2
}
