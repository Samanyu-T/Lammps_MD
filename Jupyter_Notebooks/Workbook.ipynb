{
 "cells": [
  {
   "cell_type": "code",
   "execution_count": 8,
   "metadata": {},
   "outputs": [],
   "source": [
    "import numpy as np\n",
    "import matplotlib.pyplot as plt\n",
    "import os\n",
    "os.chdir('/Users/cd8607/Documents/Lammps_MD')"
   ]
  },
  {
   "cell_type": "code",
   "execution_count": 9,
   "metadata": {},
   "outputs": [],
   "source": [
    "loss = np.empty((0))\n",
    "samples = np.empty((0, 10))\n",
    "\n",
    "\n",
    "for i in range(112):\n",
    "    _loss = np.loadtxt('Genetic_Algorithm/Loss_%d.txt' % i)\n",
    "    _samples = np.loadtxt('Genetic_Algorithm/Samples_%d.txt' % i)\n",
    "\n",
    "    loss = np.hstack([loss, _loss])\n",
    "    samples = np.vstack([samples, _samples])\n",
    "\n",
    "idx = np.argsort(loss)\n",
    "loss = loss[idx]\n",
    "samples = samples[idx]"
   ]
  },
  {
   "cell_type": "code",
   "execution_count": 10,
   "metadata": {},
   "outputs": [
    {
     "data": {
      "text/plain": [
       "(array([ 84069., 201617., 137034.,  94770.,  75170.,  60648.,  49717.,\n",
       "         40470.,  34142.,  28317.]),\n",
       " array([10.180898 , 14.1628051, 18.1447122, 22.1266193, 26.1085264,\n",
       "        30.0904335, 34.0723406, 38.0542477, 42.0361548, 46.0180619,\n",
       "        49.999969 ]),\n",
       " <BarContainer object of 10 artists>)"
      ]
     },
     "execution_count": 10,
     "metadata": {},
     "output_type": "execute_result"
    },
    {
     "data": {
      "image/png": "[encoded data removed]",
      "text/plain": [
       "<Figure size 640x480 with 1 Axes>"
      ]
     },
     "metadata": {},
     "output_type": "display_data"
    }
   ],
   "source": [
    "plt.hist(loss)"
   ]
  },
  {
   "cell_type": "code",
   "execution_count": 11,
   "metadata": {},
   "outputs": [
    {
     "name": "stdout",
     "output_type": "stream",
     "text": [
      "[[ 4.66458615e+00 -8.82914242e-02  2.76093995e+01  4.31867505e+00\n",
      "  -1.50996791e+00  2.44394864e+00 -2.11438408e-01 -6.73567543e-01\n",
      "   5.75511427e-01  3.96713460e-01]\n",
      " [ 5.37005413e+00  2.30924453e-02  2.36432203e+01  4.03361248e+00\n",
      "  -1.68551066e+00  2.64612633e+00 -1.39444680e-01 -7.72225928e-01\n",
      "   6.51399035e-01  3.11903382e-01]\n",
      " [ 6.95352605e+00  1.03321898e-02  2.91825690e+01  5.47525182e+00\n",
      "  -1.96161175e+00  2.19057301e+00  2.07218343e+00 -9.26284400e-01\n",
      "   9.91583386e-01 -2.33072465e-02]\n",
      " [ 5.02668507e+00 -7.17446500e-02  2.66690559e+01  3.78861869e+00\n",
      "  -1.60119416e+00  3.01968829e+00 -2.34236633e-01 -6.51562291e-01\n",
      "   5.47753471e-01 -3.86012449e-03]\n",
      " [ 3.47933244e+00  3.18014041e-02  1.91675308e+01  5.45677494e+00\n",
      "  -1.26021061e+00  1.39594408e+00  3.57169358e+00 -6.32428051e-01\n",
      "   7.67546824e-01 -7.63126242e-02]\n",
      " [ 2.28918611e+00  7.44232674e-02  2.63868636e+01  5.44872838e+00\n",
      "  -1.08373196e+00  1.79194289e+00  7.08590964e-01 -5.36089800e-01\n",
      "   4.99575721e-01  3.22504218e-01]\n",
      " [ 1.70486438e+00  1.74610821e-01  1.94262347e+01  4.58869145e+00\n",
      "  -1.04686709e+00  2.43564820e+00  1.90504827e+00 -3.84995174e-01\n",
      "   4.08875648e-01  2.33160322e-02]\n",
      " [ 1.46404513e+00  9.35853289e-02  3.05908963e+01  4.02722918e+00\n",
      "  -8.99378490e-01  2.42602633e+00 -9.83218153e-01 -3.55104130e-01\n",
      "   2.09812171e-01  4.42224820e-01]\n",
      " [ 3.93959170e+00  1.89210323e-01  2.27450910e+01  4.49955817e+00\n",
      "  -1.36152718e+00  2.13479208e+00 -1.81744980e-01 -6.15455098e-01\n",
      "   6.36267203e-01  2.15317924e-01]\n",
      " [ 2.01833933e+00 -1.61853974e-01  2.41228042e+01  4.47443515e+00\n",
      "  -9.32691582e-01  1.50840950e+00 -5.01241367e-01 -5.12880128e-01\n",
      "   4.64168621e-01  4.78248512e-01]]\n"
     ]
    }
   ],
   "source": [
    "x_init = samples[loss < 10.6]\n",
    "\n",
    "\n",
    "_loss = np.loadtxt('gmm_samples/Filtered_Loss.txt')\n",
    "_samples = np.loadtxt('gmm_samples/Filtered_Samples.txt')\n",
    "\n",
    "x_init = np.vstack([x_init, _samples[:100]])\n",
    "\n",
    "np.savetxt('x_init.txt', x_init, fmt = '%.5f')\n",
    "\n",
    "print(_samples[:10])"
   ]
  },
  {
   "cell_type": "code",
   "execution_count": 12,
   "metadata": {},
   "outputs": [
    {
     "name": "stdout",
     "output_type": "stream",
     "text": [
      "[ 4.3032  0.7181 79.6609  9.2036 -1.0895  3.6787  6.3563 -0.169  -0.3485\n",
      " -2.0927]\n",
      "[ 5.0596  0.7568 40.6429  4.7473 -1.2151  3.3476  9.6676 -0.2554 -0.1753\n",
      " -2.261 ]\n",
      "[ 5.3373  0.8841 10.5218  6.0199 -1.2817  3.3497  9.0906 -0.2566 -0.1807\n",
      " -2.1129]\n",
      "[ 5.1274  0.8634 32.1388  6.1111 -1.3329  3.6845  8.1478 -0.2807 -0.1275\n",
      " -2.3089]\n",
      "[ 5.1522  0.8596 30.5821  5.6857 -1.2663  3.6902  7.4889 -0.2353 -0.1479\n",
      " -2.1932]\n",
      "[ 5.505   0.8395 39.8212  4.7793 -1.2984  3.766   6.8919 -0.2716 -0.1664\n",
      " -2.2018]\n",
      "[ 5.7044  0.8463  3.7432  3.2615 -1.3352  3.3329  8.8037 -0.3028 -0.1275\n",
      " -2.1027]\n",
      "[ 5.2577  0.8041 44.922   5.4041 -1.2763  3.756   6.1754 -0.2545 -0.1991\n",
      " -2.1   ]\n",
      "[ 4.5733  0.8363 43.1401  4.6074 -1.1677  3.1277  9.8984 -0.2421 -0.1792\n",
      " -2.1241]\n",
      "[ 4.7101  0.2176 49.8161  4.8671 -1.1817  3.4121  8.5337 -0.2562 -0.2486\n",
      " -2.1692]\n",
      "[ 5.2905  0.8671 63.7248  5.1837 -1.264   3.4735  7.9227 -0.264  -0.1789\n",
      " -2.0804]\n",
      "[ 5.2294  0.7159 57.1189  5.7467 -1.2576  3.6115  7.481  -0.2567 -0.2136\n",
      " -2.1067]\n",
      "[ 5.2355  0.9523  2.7932  5.3359 -1.2433  3.6847  6.973  -0.2391 -0.2212\n",
      " -2.0859]\n",
      "[ 5.1239  0.8091 88.0769  7.0118 -1.3247  3.5217  8.2234 -0.2817 -0.1119\n",
      " -2.1581]\n",
      "[ 4.0267  0.5954 29.4224  8.7965 -1.1006  3.2414  9.8467 -0.1992 -0.2359\n",
      " -2.1098]\n",
      "[ 5.8266  0.7851 29.6494  6.7794 -1.4483  3.7569  8.0241 -0.3415 -0.0616\n",
      " -2.275 ]\n",
      "[ 5.3779  0.4431  2.8228  7.2788 -1.3589  3.7451  7.822  -0.3111 -0.1335\n",
      " -2.2708]\n",
      "[ 6.3034  0.8803 23.9034  6.9707 -1.5134  3.5665  8.566  -0.3571 -0.0311\n",
      " -2.1669]\n",
      "[ 5.2808  0.7771 51.5663  4.5447 -1.2363  3.2273  9.1321 -0.277  -0.136\n",
      " -2.0974]\n",
      "[ 4.4088  0.6555 95.835   8.238  -1.1596  3.549   7.151  -0.2194 -0.2632\n",
      " -2.0387]\n"
     ]
    }
   ],
   "source": [
    "loss = np.loadtxt('loss.txt')\n",
    "\n",
    "idx = np.argsort(loss)\n",
    "\n",
    "loss = loss[idx]\n",
    "x_init = x_init[idx]\n",
    "\n",
    "for i in range(20):\n",
    "    print(x_init[i])"
   ]
  },
  {
   "cell_type": "code",
   "execution_count": 13,
   "metadata": {},
   "outputs": [
    {
     "name": "stdout",
     "output_type": "stream",
     "text": [
      "1.4286271993226605\n",
      "0.3410234482371214\n",
      "23.21702790773289\n",
      "1.69475457924293\n",
      "0.2034482916612387\n",
      "0.7734047211375712\n",
      "3.8513732713808024\n",
      "0.1586726533945211\n",
      "0.34471676854602057\n",
      "1.1037068288052438\n"
     ]
    }
   ],
   "source": [
    "for i in range(x_init.shape[1]):\n",
    "    print(x_init[:,i].std()) #, x_init[:, i].std())"
   ]
  },
  {
   "cell_type": "code",
   "execution_count": 14,
   "metadata": {},
   "outputs": [
    {
     "data": {
      "text/plain": [
       "array([ 1.67840e+00,  6.53800e-01,  7.15027e+01,  7.24880e+00,\n",
       "       -8.02100e-01,  1.00690e+00,  3.70660e+00, -3.12400e-01,\n",
       "        5.89600e-01, -4.94000e-01,  6.01300e-01, -1.97200e-01,\n",
       "       -2.91000e-02,  1.92000e-02, -1.00000e-04, -6.62000e-02])"
      ]
     },
     "execution_count": 14,
     "metadata": {},
     "output_type": "execute_result"
    }
   ],
   "source": [
    "loss = np.empty((0))\n",
    "samples = np.empty((0, 16))\n",
    "\n",
    "\n",
    "for i in range(112):\n",
    "    _loss = np.loadtxt('genetic/Loss_%d.txt' % i)\n",
    "    _samples = np.loadtxt('genetic/Samples_%d.txt' % i)\n",
    "\n",
    "    loss = np.hstack([loss, _loss])\n",
    "    samples = np.vstack([samples, _samples])\n",
    "\n",
    "idx = np.argsort(loss)\n",
    "loss = loss[idx]\n",
    "samples = samples[idx]\n",
    "\n",
    "samples[2]"
   ]
  },
  {
   "cell_type": "code",
   "execution_count": 15,
   "metadata": {},
   "outputs": [],
   "source": [
    "x_init = samples[:100]\n",
    "\n",
    "_samples = np.loadtxt('gmm/GMM_3/Filtered_Samples.txt')\n",
    "\n",
    "x_init = np.vstack([x_init, _samples[:100]])\n",
    "\n",
    "np.savetxt('x_init_new.txt', x_init)"
   ]
  },
  {
   "cell_type": "code",
   "execution_count": 16,
   "metadata": {},
   "outputs": [
    {
     "name": "stdout",
     "output_type": "stream",
     "text": [
      "[13.87304532 14.21463184 14.36899516 14.44953705 14.57360935 14.63271757\n",
      " 14.88478935 14.95284324 14.98660234 15.01413168]\n"
     ]
    }
   ],
   "source": [
    "loss_new = np.loadtxt('loss_new.txt')\n",
    "\n",
    "idx = loss_new.argsort()\n",
    "\n",
    "loss_new = loss_new[idx]\n",
    "\n",
    "x_init = x_init[idx]\n",
    "\n",
    "print(loss_new[:10])"
   ]
  },
  {
   "cell_type": "code",
   "execution_count": 17,
   "metadata": {},
   "outputs": [
    {
     "name": "stdout",
     "output_type": "stream",
     "text": [
      "1.8378665105566905 1.5625028819767948\n",
      "0.8597249219130881 0.5622537217915877\n",
      "40.26230831824758 16.269189073347963\n",
      "6.392449489412908 1.7204768708079206\n",
      "-1.095874379118961 0.446131001682585\n",
      "1.273231651393508 0.3780637378068612\n",
      "1.6038789478413256 2.4449570804851515\n",
      "-0.22535842718514856 0.1034435267734796\n",
      "0.4540544886936248 0.24059582763169013\n",
      "-0.5650015847161718 0.6881679715264643\n",
      "0.6894984916291281 0.21396601418293665\n",
      "-0.2274555221252122 0.29475675110381927\n",
      "0.03006300953941318 0.08770720823350185\n",
      "0.038191511487207584 0.02497144046013949\n",
      "0.008907695587602826 0.06247810431003718\n",
      "0.05354113227603282 0.08746177881649395\n"
     ]
    }
   ],
   "source": [
    "for i in range(x_init.shape[1]):\n",
    "    print(x_init[:,i].mean(), x_init[:, i].std())"
   ]
  },
  {
   "cell_type": "code",
   "execution_count": 18,
   "metadata": {},
   "outputs": [],
   "source": [
    "loss = np.empty((0))\n",
    "samples = np.empty((0, 14))\n",
    "\n",
    "\n",
    "for i in range(112):\n",
    "    _loss = np.loadtxt('data/Genetic_Algorithm/Loss_%d.txt' % i)\n",
    "    _samples = np.loadtxt('data/Genetic_Algorithm/Samples_%d.txt' % i)\n",
    "\n",
    "    loss = np.hstack([loss, _loss])\n",
    "    samples = np.vstack([samples, _samples])\n",
    "\n",
    "idx = np.argsort(loss)\n",
    "loss = loss[idx]\n",
    "samples = samples[idx]\n",
    "\n",
    "\n",
    "\n",
    "for i in range(112):\n",
    "    _loss = np.loadtxt('data/Local_Minimizer/Loss_%d.txt' % i)\n",
    "    _samples = np.loadtxt('data/Local_Minimizer/Samples_%d.txt' % i)\n",
    "\n",
    "    loss = np.hstack([loss, _loss[-1]])\n",
    "    samples = np.vstack([samples, _samples[-1]])\n",
    "\n",
    "idx = np.argsort(loss)\n",
    "loss = loss[idx]\n",
    "samples = samples[idx]"
   ]
  },
  {
   "cell_type": "code",
   "execution_count": 19,
   "metadata": {},
   "outputs": [],
   "source": [
    "np.savetxt('x_init_1.txt', samples[:224])"
   ]
  },
  {
   "cell_type": "code",
   "execution_count": 20,
   "metadata": {},
   "outputs": [
    {
     "name": "stdout",
     "output_type": "stream",
     "text": [
      "[[ 1.7015e+00  4.2490e-01 -1.1982e+00  3.1443e+00 -3.2970e-01 -2.2820e-01\n",
      "   4.1590e-01 -4.7750e-01  6.8130e-01 -3.8090e-01  6.3500e-02  8.6000e-03\n",
      "  -9.4000e-03  1.3100e-02]\n",
      " [ 1.1643e+00  3.0460e-01 -1.2006e+00  2.7288e+00  2.3721e+00 -2.5850e-01\n",
      "   4.9810e-01 -6.8420e-01  8.9680e-01 -5.0120e-01 -2.1500e-02  2.6200e-02\n",
      "  -1.6600e-02 -2.0900e-02]\n",
      " [ 1.3246e+00  4.2270e-01 -1.0710e+00  2.8836e+00  1.0448e+00 -2.2660e-01\n",
      "   3.7500e-01 -4.9440e-01  6.6830e-01 -4.8690e-01  5.4500e-02  1.0100e-02\n",
      "  -4.1000e-03  9.3000e-03]\n",
      " [ 1.6269e+00  6.7740e-01 -1.3181e+00  3.2216e+00 -2.8810e-01 -2.6720e-01\n",
      "   5.0860e-01 -7.1730e-01  6.5260e-01 -3.9110e-01 -5.9700e-02  3.9600e-02\n",
      "  -4.5100e-02  7.2600e-02]\n",
      " [ 1.5956e+00  6.1310e-01 -1.4472e+00  2.8490e+00  5.9590e+00 -1.8810e-01\n",
      "   6.3290e-01 -1.8233e+00  9.3390e-01 -5.8410e-01 -7.2800e-02  5.6700e-02\n",
      "  -5.0000e-04 -6.7900e-02]\n",
      " [ 1.2064e+00  7.4910e-01 -1.4110e+00  2.4600e+00  9.3522e+00 -2.5230e-01\n",
      "   7.9150e-01 -1.7275e+00  4.9530e-01 -2.9260e-01  3.1000e-03  7.1600e-02\n",
      "  -9.7800e-02  6.2000e-03]\n",
      " [ 1.2233e+00  1.7810e-01 -1.3556e+00  2.1463e+00  9.3143e+00 -2.4610e-01\n",
      "   6.7870e-01 -1.5021e+00  4.2010e-01 -2.9980e-01  2.3700e-02  7.2400e-02\n",
      "  -5.1500e-02 -1.7500e-02]\n",
      " [ 1.5702e+00  8.7190e-01 -1.4686e+00  2.4483e+00  9.8484e+00 -2.1630e-01\n",
      "   7.4150e-01 -1.8367e+00  6.6210e-01 -1.8050e-01 -8.6000e-03  4.6400e-02\n",
      "  -4.9700e-02 -2.9900e-02]\n",
      " [ 1.5809e+00  9.1020e-01 -1.2908e+00  3.3081e+00 -1.0440e+00 -2.4620e-01\n",
      "   4.5590e-01 -7.7340e-01  7.5070e-01 -4.0250e-01 -8.2000e-02  3.9800e-02\n",
      "  -2.4500e-02  2.0100e-02]\n",
      " [ 1.9864e+00  5.8230e-01 -1.0969e+00  2.5594e+00  6.9801e+00 -1.7950e-01\n",
      "   5.1790e-01 -1.3388e+00  7.0060e-01 -6.5620e-01  8.8500e-02  2.6300e-02\n",
      "  -1.2400e-02 -9.4800e-02]]\n"
     ]
    }
   ],
   "source": [
    "loss = np.loadtxt('loss_1.txt')\n",
    "\n",
    "idx = np.argsort(loss)\n",
    "loss = loss[idx]\n",
    "x = samples[:224][idx]\n",
    "\n",
    "print(samples[:10])"
   ]
  },
  {
   "cell_type": "code",
   "execution_count": 21,
   "metadata": {},
   "outputs": [
    {
     "name": "stdout",
     "output_type": "stream",
     "text": [
      "Initial components and BIC: 1 -2987946.7101858035\n",
      "Components: 2 BIC: -1444459.2922826689 Previous BIC: -2987946.7101858035\n",
      "Optimal number of components: 1\n"
     ]
    },
    {
     "data": {
      "text/html": [
       "<style>#sk-container-id-1 {\n",
       "  /* Definition of color scheme common for light and dark mode */\n",
       "  --sklearn-color-text: black;\n",
       "  --sklearn-color-line: gray;\n",
       "  /* Definition of color scheme for unfitted estimators */\n",
       "  --sklearn-color-unfitted-level-0: #fff5e6;\n",
       "  --sklearn-color-unfitted-level-1: #f6e4d2;\n",
       "  --sklearn-color-unfitted-level-2: #ffe0b3;\n",
       "  --sklearn-color-unfitted-level-3: chocolate;\n",
       "  /* Definition of color scheme for fitted estimators */\n",
       "  --sklearn-color-fitted-level-0: #f0f8ff;\n",
       "  --sklearn-color-fitted-level-1: #d4ebff;\n",
       "  --sklearn-color-fitted-level-2: #b3dbfd;\n",
       "  --sklearn-color-fitted-level-3: cornflowerblue;\n",
       "\n",
       "  /* Specific color for light theme */\n",
       "  --sklearn-color-text-on-default-background: var(--sg-text-color, var(--theme-code-foreground, var(--jp-content-font-color1, black)));\n",
       "  --sklearn-color-background: var(--sg-background-color, var(--theme-background, var(--jp-layout-color0, white)));\n",
       "  --sklearn-color-border-box: var(--sg-text-color, var(--theme-code-foreground, var(--jp-content-font-color1, black)));\n",
       "  --sklearn-color-icon: #696969;\n",
       "\n",
       "  @media (prefers-color-scheme: dark) {\n",
       "    /* Redefinition of color scheme for dark theme */\n",
       "    --sklearn-color-text-on-default-background: var(--sg-text-color, var(--theme-code-foreground, var(--jp-content-font-color1, white)));\n",
       "    --sklearn-color-background: var(--sg-background-color, var(--theme-background, var(--jp-layout-color0, #111)));\n",
       "    --sklearn-color-border-box: var(--sg-text-color, var(--theme-code-foreground, var(--jp-content-font-color1, white)));\n",
       "    --sklearn-color-icon: #878787;\n",
       "  }\n",
       "}\n",
       "\n",
       "#sk-container-id-1 {\n",
       "  color: var(--sklearn-color-text);\n",
       "}\n",
       "\n",
       "#sk-container-id-1 pre {\n",
       "  padding: 0;\n",
       "}\n",
       "\n",
       "#sk-container-id-1 input.sk-hidden--visually {\n",
       "  border: 0;\n",
       "  clip: rect(1px 1px 1px 1px);\n",
       "  clip: rect(1px, 1px, 1px, 1px);\n",
       "  height: 1px;\n",
       "  margin: -1px;\n",
       "  overflow: hidden;\n",
       "  padding: 0;\n",
       "  position: absolute;\n",
       "  width: 1px;\n",
       "}\n",
       "\n",
       "#sk-container-id-1 div.sk-dashed-wrapped {\n",
       "  border: 1px dashed var(--sklearn-color-line);\n",
       "  margin: 0 0.4em 0.5em 0.4em;\n",
       "  box-sizing: border-box;\n",
       "  padding-bottom: 0.4em;\n",
       "  background-color: var(--sklearn-color-background);\n",
       "}\n",
       "\n",
       "#sk-container-id-1 div.sk-container {\n",
       "  /* jupyter's `normalize.less` sets `[hidden] { display: none; }`\n",
       "     but bootstrap.min.css set `[hidden] { display: none !important; }`\n",
       "     so we also need the `!important` here to be able to override the\n",
       "     default hidden behavior on the sphinx rendered scikit-learn.org.\n",
       "     See: https://github.com/scikit-learn/scikit-learn/issues/21755 */\n",
       "  display: inline-block !important;\n",
       "  position: relative;\n",
       "}\n",
       "\n",
       "#sk-container-id-1 div.sk-text-repr-fallback {\n",
       "  display: none;\n",
       "}\n",
       "\n",
       "div.sk-parallel-item,\n",
       "div.sk-serial,\n",
       "div.sk-item {\n",
       "  /* draw centered vertical line to link estimators */\n",
       "  background-image: linear-gradient(var(--sklearn-color-text-on-default-background), var(--sklearn-color-text-on-default-background));\n",
       "  background-size: 2px 100%;\n",
       "  background-repeat: no-repeat;\n",
       "  background-position: center center;\n",
       "}\n",
       "\n",
       "/* Parallel-specific style estimator block */\n",
       "\n",
       "#sk-container-id-1 div.sk-parallel-item::after {\n",
       "  content: \"\";\n",
       "  width: 100%;\n",
       "  border-bottom: 2px solid var(--sklearn-color-text-on-default-background);\n",
       "  flex-grow: 1;\n",
       "}\n",
       "\n",
       "#sk-container-id-1 div.sk-parallel {\n",
       "  display: flex;\n",
       "  align-items: stretch;\n",
       "  justify-content: center;\n",
       "  background-color: var(--sklearn-color-background);\n",
       "  position: relative;\n",
       "}\n",
       "\n",
       "#sk-container-id-1 div.sk-parallel-item {\n",
       "  display: flex;\n",
       "  flex-direction: column;\n",
       "}\n",
       "\n",
       "#sk-container-id-1 div.sk-parallel-item:first-child::after {\n",
       "  align-self: flex-end;\n",
       "  width: 50%;\n",
       "}\n",
       "\n",
       "#sk-container-id-1 div.sk-parallel-item:last-child::after {\n",
       "  align-self: flex-start;\n",
       "  width: 50%;\n",
       "}\n",
       "\n",
       "#sk-container-id-1 div.sk-parallel-item:only-child::after {\n",
       "  width: 0;\n",
       "}\n",
       "\n",
       "/* Serial-specific style estimator block */\n",
       "\n",
       "#sk-container-id-1 div.sk-serial {\n",
       "  display: flex;\n",
       "  flex-direction: column;\n",
       "  align-items: center;\n",
       "  background-color: var(--sklearn-color-background);\n",
       "  padding-right: 1em;\n",
       "  padding-left: 1em;\n",
       "}\n",
       "\n",
       "\n",
       "/* Toggleable style: style used for estimator/Pipeline/ColumnTransformer box that is\n",
       "clickable and can be expanded/collapsed.\n",
       "- Pipeline and ColumnTransformer use this feature and define the default style\n",
       "- Estimators will overwrite some part of the style using the `sk-estimator` class\n",
       "*/\n",
       "\n",
       "/* Pipeline and ColumnTransformer style (default) */\n",
       "\n",
       "#sk-container-id-1 div.sk-toggleable {\n",
       "  /* Default theme specific background. It is overwritten whether we have a\n",
       "  specific estimator or a Pipeline/ColumnTransformer */\n",
       "  background-color: var(--sklearn-color-background);\n",
       "}\n",
       "\n",
       "/* Toggleable label */\n",
       "#sk-container-id-1 label.sk-toggleable__label {\n",
       "  cursor: pointer;\n",
       "  display: block;\n",
       "  width: 100%;\n",
       "  margin-bottom: 0;\n",
       "  padding: 0.5em;\n",
       "  box-sizing: border-box;\n",
       "  text-align: center;\n",
       "}\n",
       "\n",
       "#sk-container-id-1 label.sk-toggleable__label-arrow:before {\n",
       "  /* Arrow on the left of the label */\n",
       "  content: \"▸\";\n",
       "  float: left;\n",
       "  margin-right: 0.25em;\n",
       "  color: var(--sklearn-color-icon);\n",
       "}\n",
       "\n",
       "#sk-container-id-1 label.sk-toggleable__label-arrow:hover:before {\n",
       "  color: var(--sklearn-color-text);\n",
       "}\n",
       "\n",
       "/* Toggleable content - dropdown */\n",
       "\n",
       "#sk-container-id-1 div.sk-toggleable__content {\n",
       "  max-height: 0;\n",
       "  max-width: 0;\n",
       "  overflow: hidden;\n",
       "  text-align: left;\n",
       "  /* unfitted */\n",
       "  background-color: var(--sklearn-color-unfitted-level-0);\n",
       "}\n",
       "\n",
       "#sk-container-id-1 div.sk-toggleable__content.fitted {\n",
       "  /* fitted */\n",
       "  background-color: var(--sklearn-color-fitted-level-0);\n",
       "}\n",
       "\n",
       "#sk-container-id-1 div.sk-toggleable__content pre {\n",
       "  margin: 0.2em;\n",
       "  border-radius: 0.25em;\n",
       "  color: var(--sklearn-color-text);\n",
       "  /* unfitted */\n",
       "  background-color: var(--sklearn-color-unfitted-level-0);\n",
       "}\n",
       "\n",
       "#sk-container-id-1 div.sk-toggleable__content.fitted pre {\n",
       "  /* unfitted */\n",
       "  background-color: var(--sklearn-color-fitted-level-0);\n",
       "}\n",
       "\n",
       "#sk-container-id-1 input.sk-toggleable__control:checked~div.sk-toggleable__content {\n",
       "  /* Expand drop-down */\n",
       "  max-height: 200px;\n",
       "  max-width: 100%;\n",
       "  overflow: auto;\n",
       "}\n",
       "\n",
       "#sk-container-id-1 input.sk-toggleable__control:checked~label.sk-toggleable__label-arrow:before {\n",
       "  content: \"▾\";\n",
       "}\n",
       "\n",
       "/* Pipeline/ColumnTransformer-specific style */\n",
       "\n",
       "#sk-container-id-1 div.sk-label input.sk-toggleable__control:checked~label.sk-toggleable__label {\n",
       "  color: var(--sklearn-color-text);\n",
       "  background-color: var(--sklearn-color-unfitted-level-2);\n",
       "}\n",
       "\n",
       "#sk-container-id-1 div.sk-label.fitted input.sk-toggleable__control:checked~label.sk-toggleable__label {\n",
       "  background-color: var(--sklearn-color-fitted-level-2);\n",
       "}\n",
       "\n",
       "/* Estimator-specific style */\n",
       "\n",
       "/* Colorize estimator box */\n",
       "#sk-container-id-1 div.sk-estimator input.sk-toggleable__control:checked~label.sk-toggleable__label {\n",
       "  /* unfitted */\n",
       "  background-color: var(--sklearn-color-unfitted-level-2);\n",
       "}\n",
       "\n",
       "#sk-container-id-1 div.sk-estimator.fitted input.sk-toggleable__control:checked~label.sk-toggleable__label {\n",
       "  /* fitted */\n",
       "  background-color: var(--sklearn-color-fitted-level-2);\n",
       "}\n",
       "\n",
       "#sk-container-id-1 div.sk-label label.sk-toggleable__label,\n",
       "#sk-container-id-1 div.sk-label label {\n",
       "  /* The background is the default theme color */\n",
       "  color: var(--sklearn-color-text-on-default-background);\n",
       "}\n",
       "\n",
       "/* On hover, darken the color of the background */\n",
       "#sk-container-id-1 div.sk-label:hover label.sk-toggleable__label {\n",
       "  color: var(--sklearn-color-text);\n",
       "  background-color: var(--sklearn-color-unfitted-level-2);\n",
       "}\n",
       "\n",
       "/* Label box, darken color on hover, fitted */\n",
       "#sk-container-id-1 div.sk-label.fitted:hover label.sk-toggleable__label.fitted {\n",
       "  color: var(--sklearn-color-text);\n",
       "  background-color: var(--sklearn-color-fitted-level-2);\n",
       "}\n",
       "\n",
       "/* Estimator label */\n",
       "\n",
       "#sk-container-id-1 div.sk-label label {\n",
       "  font-family: monospace;\n",
       "  font-weight: bold;\n",
       "  display: inline-block;\n",
       "  line-height: 1.2em;\n",
       "}\n",
       "\n",
       "#sk-container-id-1 div.sk-label-container {\n",
       "  text-align: center;\n",
       "}\n",
       "\n",
       "/* Estimator-specific */\n",
       "#sk-container-id-1 div.sk-estimator {\n",
       "  font-family: monospace;\n",
       "  border: 1px dotted var(--sklearn-color-border-box);\n",
       "  border-radius: 0.25em;\n",
       "  box-sizing: border-box;\n",
       "  margin-bottom: 0.5em;\n",
       "  /* unfitted */\n",
       "  background-color: var(--sklearn-color-unfitted-level-0);\n",
       "}\n",
       "\n",
       "#sk-container-id-1 div.sk-estimator.fitted {\n",
       "  /* fitted */\n",
       "  background-color: var(--sklearn-color-fitted-level-0);\n",
       "}\n",
       "\n",
       "/* on hover */\n",
       "#sk-container-id-1 div.sk-estimator:hover {\n",
       "  /* unfitted */\n",
       "  background-color: var(--sklearn-color-unfitted-level-2);\n",
       "}\n",
       "\n",
       "#sk-container-id-1 div.sk-estimator.fitted:hover {\n",
       "  /* fitted */\n",
       "  background-color: var(--sklearn-color-fitted-level-2);\n",
       "}\n",
       "\n",
       "/* Specification for estimator info (e.g. \"i\" and \"?\") */\n",
       "\n",
       "/* Common style for \"i\" and \"?\" */\n",
       "\n",
       ".sk-estimator-doc-link,\n",
       "a:link.sk-estimator-doc-link,\n",
       "a:visited.sk-estimator-doc-link {\n",
       "  float: right;\n",
       "  font-size: smaller;\n",
       "  line-height: 1em;\n",
       "  font-family: monospace;\n",
       "  background-color: var(--sklearn-color-background);\n",
       "  border-radius: 1em;\n",
       "  height: 1em;\n",
       "  width: 1em;\n",
       "  text-decoration: none !important;\n",
       "  margin-left: 1ex;\n",
       "  /* unfitted */\n",
       "  border: var(--sklearn-color-unfitted-level-1) 1pt solid;\n",
       "  color: var(--sklearn-color-unfitted-level-1);\n",
       "}\n",
       "\n",
       ".sk-estimator-doc-link.fitted,\n",
       "a:link.sk-estimator-doc-link.fitted,\n",
       "a:visited.sk-estimator-doc-link.fitted {\n",
       "  /* fitted */\n",
       "  border: var(--sklearn-color-fitted-level-1) 1pt solid;\n",
       "  color: var(--sklearn-color-fitted-level-1);\n",
       "}\n",
       "\n",
       "/* On hover */\n",
       "div.sk-estimator:hover .sk-estimator-doc-link:hover,\n",
       ".sk-estimator-doc-link:hover,\n",
       "div.sk-label-container:hover .sk-estimator-doc-link:hover,\n",
       ".sk-estimator-doc-link:hover {\n",
       "  /* unfitted */\n",
       "  background-color: var(--sklearn-color-unfitted-level-3);\n",
       "  color: var(--sklearn-color-background);\n",
       "  text-decoration: none;\n",
       "}\n",
       "\n",
       "div.sk-estimator.fitted:hover .sk-estimator-doc-link.fitted:hover,\n",
       ".sk-estimator-doc-link.fitted:hover,\n",
       "div.sk-label-container:hover .sk-estimator-doc-link.fitted:hover,\n",
       ".sk-estimator-doc-link.fitted:hover {\n",
       "  /* fitted */\n",
       "  background-color: var(--sklearn-color-fitted-level-3);\n",
       "  color: var(--sklearn-color-background);\n",
       "  text-decoration: none;\n",
       "}\n",
       "\n",
       "/* Span, style for the box shown on hovering the info icon */\n",
       ".sk-estimator-doc-link span {\n",
       "  display: none;\n",
       "  z-index: 9999;\n",
       "  position: relative;\n",
       "  font-weight: normal;\n",
       "  right: .2ex;\n",
       "  padding: .5ex;\n",
       "  margin: .5ex;\n",
       "  width: min-content;\n",
       "  min-width: 20ex;\n",
       "  max-width: 50ex;\n",
       "  color: var(--sklearn-color-text);\n",
       "  box-shadow: 2pt 2pt 4pt #999;\n",
       "  /* unfitted */\n",
       "  background: var(--sklearn-color-unfitted-level-0);\n",
       "  border: .5pt solid var(--sklearn-color-unfitted-level-3);\n",
       "}\n",
       "\n",
       ".sk-estimator-doc-link.fitted span {\n",
       "  /* fitted */\n",
       "  background: var(--sklearn-color-fitted-level-0);\n",
       "  border: var(--sklearn-color-fitted-level-3);\n",
       "}\n",
       "\n",
       ".sk-estimator-doc-link:hover span {\n",
       "  display: block;\n",
       "}\n",
       "\n",
       "/* \"?\"-specific style due to the `<a>` HTML tag */\n",
       "\n",
       "#sk-container-id-1 a.estimator_doc_link {\n",
       "  float: right;\n",
       "  font-size: 1rem;\n",
       "  line-height: 1em;\n",
       "  font-family: monospace;\n",
       "  background-color: var(--sklearn-color-background);\n",
       "  border-radius: 1rem;\n",
       "  height: 1rem;\n",
       "  width: 1rem;\n",
       "  text-decoration: none;\n",
       "  /* unfitted */\n",
       "  color: var(--sklearn-color-unfitted-level-1);\n",
       "  border: var(--sklearn-color-unfitted-level-1) 1pt solid;\n",
       "}\n",
       "\n",
       "#sk-container-id-1 a.estimator_doc_link.fitted {\n",
       "  /* fitted */\n",
       "  border: var(--sklearn-color-fitted-level-1) 1pt solid;\n",
       "  color: var(--sklearn-color-fitted-level-1);\n",
       "}\n",
       "\n",
       "/* On hover */\n",
       "#sk-container-id-1 a.estimator_doc_link:hover {\n",
       "  /* unfitted */\n",
       "  background-color: var(--sklearn-color-unfitted-level-3);\n",
       "  color: var(--sklearn-color-background);\n",
       "  text-decoration: none;\n",
       "}\n",
       "\n",
       "#sk-container-id-1 a.estimator_doc_link.fitted:hover {\n",
       "  /* fitted */\n",
       "  background-color: var(--sklearn-color-fitted-level-3);\n",
       "}\n",
       "</style><div id=\"sk-container-id-1\" class=\"sk-top-container\"><div class=\"sk-text-repr-fallback\"><pre>GaussianMixture(covariance_type=&#x27;diag&#x27;, reg_covar=0.001)</pre><b>In a Jupyter environment, please rerun this cell to show the HTML representation or trust the notebook. <br />On GitHub, the HTML representation is unable to render, please try loading this page with nbviewer.org.</b></div><div class=\"sk-container\" hidden><div class=\"sk-item\"><div class=\"sk-estimator fitted sk-toggleable\"><input class=\"sk-toggleable__control sk-hidden--visually\" id=\"sk-estimator-id-1\" type=\"checkbox\" checked><label for=\"sk-estimator-id-1\" class=\"sk-toggleable__label fitted sk-toggleable__label-arrow fitted\">&nbsp;&nbsp;GaussianMixture<a class=\"sk-estimator-doc-link fitted\" rel=\"noreferrer\" target=\"_blank\" href=\"https://scikit-learn.org/1.5/modules/generated/sklearn.mixture.GaussianMixture.html\">?<span>Documentation for GaussianMixture</span></a><span class=\"sk-estimator-doc-link fitted\">i<span>Fitted</span></span></label><div class=\"sk-toggleable__content fitted\"><pre>GaussianMixture(covariance_type=&#x27;diag&#x27;, reg_covar=0.001)</pre></div> </div></div></div></div>"
      ],
      "text/plain": [
       "GaussianMixture(covariance_type='diag', reg_covar=0.001)"
      ]
     },
     "execution_count": 21,
     "metadata": {},
     "output_type": "execute_result"
    }
   ],
   "source": [
    "from sklearn.mixture import GaussianMixture\n",
    "\n",
    "loss = np.empty((0))\n",
    "samples = np.empty((0, 14))\n",
    "\n",
    "\n",
    "for i in range(112):\n",
    "    _loss = np.loadtxt('data/Genetic_Algorithm/Loss_%d.txt' % i)\n",
    "    _samples = np.loadtxt('data/Genetic_Algorithm/Samples_%d.txt' % i)\n",
    "\n",
    "    loss = np.hstack([loss, _loss])\n",
    "    samples = np.vstack([samples, _samples])\n",
    "\n",
    "idx = np.argsort(loss)\n",
    "loss = loss[idx]\n",
    "samples = samples[idx]\n",
    "\n",
    "\n",
    "\n",
    "for i in range(112):\n",
    "    _loss = np.loadtxt('data/Local_Minimizer/Loss_%d.txt' % i)\n",
    "    _samples = np.loadtxt('data/Local_Minimizer/Samples_%d.txt' % i)\n",
    "\n",
    "    loss = np.hstack([loss, _loss[-1]])\n",
    "    samples = np.vstack([samples, _samples[-1]])\n",
    "\n",
    "idx = np.argsort(loss)\n",
    "loss = loss[idx]\n",
    "samples = samples[idx]\n",
    "\n",
    "data = samples\n",
    "\n",
    "# Fit GMM and determine the optimal number of components using BIC\n",
    "cmp = 1\n",
    "gmm = GaussianMixture(n_components=cmp, covariance_type='full', reg_covar=1e-6)\n",
    "gmm.fit(data)\n",
    "bic_val = gmm.bic(data)\n",
    "bic_val_prev = bic_val\n",
    "\n",
    "print(\"Initial components and BIC:\", cmp, bic_val)\n",
    "\n",
    "while True:\n",
    "    cmp += 1\n",
    "    bic_val_prev = bic_val\n",
    "    gmm = GaussianMixture(n_components=cmp, covariance_type='full', reg_covar=4e-3)\n",
    "    gmm.fit(data)\n",
    "    bic_val = gmm.bic(data)\n",
    "    print(\"Components:\", cmp, \"BIC:\", bic_val, \"Previous BIC:\", bic_val_prev)\n",
    "\n",
    "    if 1.01 * bic_val > bic_val_prev:\n",
    "        break\n",
    "\n",
    "final_components = cmp - 1\n",
    "print(\"Optimal number of components:\", final_components)\n",
    "\n",
    "gmm = GaussianMixture(n_components=final_components, covariance_type='diag', reg_covar=1e-3)\n",
    "gmm.fit(data)\n"
   ]
  },
  {
   "cell_type": "code",
   "execution_count": 22,
   "metadata": {},
   "outputs": [
    {
     "name": "stdout",
     "output_type": "stream",
     "text": [
      "[[ 2.31417480e+00  5.49782701e-01 -1.57953485e+00  2.93672469e+00\n",
      "   4.46114577e+00 -2.31669793e-01  5.90963970e-01 -1.23585493e+00\n",
      "   6.73573753e-01 -4.10681078e-01  3.09498929e-04  5.45488521e-02\n",
      "  -4.31581372e-02  7.49014530e-03]]\n"
     ]
    }
   ],
   "source": [
    "print(gmm.means_)"
   ]
  },
  {
   "cell_type": "code",
   "execution_count": 23,
   "metadata": {},
   "outputs": [
    {
     "name": "stdout",
     "output_type": "stream",
     "text": [
      "[[1.23095660e+00 6.70333146e-02 1.34810027e-01 5.72757898e-01\n",
      "  9.54776974e+00 1.42183855e-02 1.14636954e-01 9.25293022e-01\n",
      "  3.79553078e-02 4.82307171e-02 3.71020893e-03 1.49153683e-03\n",
      "  1.96326022e-03 3.65131131e-03]]\n"
     ]
    }
   ],
   "source": [
    "print(gmm.covariances_)"
   ]
  },
  {
   "cell_type": "code",
   "execution_count": 24,
   "metadata": {},
   "outputs": [],
   "source": [
    "loss = np.empty((0))\n",
    "samples = np.empty((0, 26))\n",
    "\n",
    "for i in range(1, 5):\n",
    "    _loss = np.loadtxt('data_partial/gmm/GMM_%d/Filtered_Loss.txt' % i)\n",
    "    _samples = np.loadtxt('data_partial/gmm/GMM_%d/Filtered_Samples.txt' % i)\n",
    "\n",
    "    loss = np.hstack([loss, _loss[:10*i]])\n",
    "    samples = np.vstack([samples, _samples[:10*i]])\n",
    "\n",
    "idx = np.argsort(loss)\n",
    "loss = loss[idx]\n",
    "samples = samples[idx]\n",
    "\n",
    "np.savetxt('x_init_partial.txt', samples)"
   ]
  },
  {
   "cell_type": "code",
   "execution_count": 25,
   "metadata": {},
   "outputs": [],
   "source": [
    "import glob\n",
    "\n",
    "files = glob.glob('data_partial/Genetic_Algorithm/Loss*')\n",
    "\n",
    "for file in files:\n",
    "    idx = int(file.split('_')[-1].split('.')[0])\n",
    "    _loss = np.loadtxt(file)\n",
    "    _sample = np.loadtxt('data_partial/Genetic_Algorithm/Samples_%d.txt' % idx)\n",
    "\n",
    "\n",
    "    loss = np.hstack([loss, _loss])\n",
    "    samples = np.vstack([samples, _samples])\n",
    "\n",
    "\n",
    "idx = np.argsort(loss)\n",
    "loss = loss[idx]\n",
    "samples = samples[idx]\n",
    "\n",
    "np.savetxt('x_init_partial.txt', samples)"
   ]
  },
  {
   "cell_type": "code",
   "execution_count": 26,
   "metadata": {},
   "outputs": [],
   "source": [
    "loss = np.empty((0))\n",
    "samples = np.empty((0, 38))\n",
    "\n",
    "loss = np.loadtxt('data_full/GMM_3/Filtered_Loss.txt')\n",
    "samples = np.loadtxt('data_full/GMM_3/Filtered_Samples.txt')\n",
    "\n",
    "idx = np.argsort(loss)\n",
    "loss = loss[idx]\n",
    "samples = samples[idx]\n",
    "\n",
    "np.savetxt('x_init_full.txt', samples[:25])"
   ]
  },
  {
   "cell_type": "code",
   "execution_count": 27,
   "metadata": {},
   "outputs": [],
   "source": [
    "# files = glob.glob('data_full/Genetic_Algorithm/Loss*')\n",
    "\n",
    "# for file in files:\n",
    "#     idx = int(file.split('_')[-1].split('.')[0])\n",
    "#     _loss = np.loadtxt(file)\n",
    "#     _sample = np.loadtxt('data_full/Genetic_Algorithm/Samples_%d.txt' % idx)\n",
    "\n",
    "\n",
    "#     loss = np.hstack([loss, _loss])\n",
    "#     samples = np.vstack([samples, _samples])\n",
    "\n",
    "\n",
    "# idx = np.argsort(loss)\n",
    "# loss = loss[idx]\n",
    "# samples = samples[idx]\n",
    "# hehe = np.ones((len(samples), 6)) * np.array([-3.670e-01,  4.789e-01 ,-3.762e-01, -2.760e-02,  4.344e-02, -7.470e-02])\n",
    "# hhe =  np.ones((len(samples), 6)) * np.array([-0.12564656, 0.13166891, -0.23713911, -0.02355287 , 0.02697471 ,-0.04887022])\n",
    "\n",
    "# samples = np.hstack([samples[:, :-6], hehe, hhe, samples[:, -6:]])\n",
    "np.savetxt('x_init_full.txt', samples)"
   ]
  },
  {
   "cell_type": "code",
   "execution_count": 28,
   "metadata": {},
   "outputs": [
    {
     "data": {
      "text/plain": [
       "'1.82134 0.96880 1.61365 0.08828 0.13089 0.22713 -0.17265 0.07766 0.76948 -0.05001 0.63698 0.02779 0.01675 -0.49867 0.63086 -2.17651 0.59552 0.05991 -0.49417 -0.22462 0.96517 -0.71958 -0.61953 -0.10348 0.40236 -0.00063 -1.39301 1.77365 1.73821 -0.18272 0.64400 -1.54206 0.67748 -0.32676 0.02617 0.03535 -0.06580 -0.01397 '"
      ]
     },
     "execution_count": 28,
     "metadata": {},
     "output_type": "execute_result"
    }
   ],
   "source": [
    "loss = np.loadtxt('loss_full.txt')\n",
    "\n",
    "x_init = samples[:25]\n",
    "\n",
    "\n",
    "idx = np.argsort(loss)\n",
    "loss = loss[idx]\n",
    "x_init = x_init[idx]\n",
    "\n",
    "str = ''\n",
    "\n",
    "for _x in x_init[0]:\n",
    "    str += '%.5f ' % _x\n",
    "\n",
    "str"
   ]
  },
  {
   "cell_type": "code",
   "execution_count": 29,
   "metadata": {},
   "outputs": [
    {
     "name": "stdout",
     "output_type": "stream",
     "text": [
      "[10.796182 10.819251 10.83913  10.844196 10.850439 10.851886 10.852739\n",
      " 10.854561 10.856756 10.860622 10.86126  10.878452 10.87958  10.879935\n",
      " 10.907005 10.920981 10.923679 10.927788 10.929443 10.931598 10.942917\n",
      " 10.943963 10.94497  10.94916  10.949771 10.952692 10.955081 10.955905\n",
      " 10.956585 10.965935 10.972932 10.978822 10.984122 10.988706 11.001235\n",
      " 11.003224 11.008011 11.019172 11.020211 11.049609 11.065262 11.065389\n",
      " 11.066461 11.078223 11.092845 11.095515 11.097654 11.098977 11.105358\n",
      " 11.1088   11.122238 11.135947 11.140633 11.149889 11.160744 11.171481\n",
      " 11.2017   11.207573 11.21607  11.243872 11.254653 11.254977 11.257056\n",
      " 11.258911 11.281367 11.28677  11.296088 11.301397 11.316465 11.335512\n",
      " 11.346012 11.34824  11.35     11.35937  11.365597 11.368673 11.386938\n",
      " 11.389266 11.393655 11.395406 11.401065 11.40284  11.423257 11.424912\n",
      " 11.441158 11.448086 11.451913 11.460469 11.499233 11.53225  11.532982\n",
      " 11.556279 11.599877 11.639385 11.647323 11.708386 11.741621 11.834889\n",
      " 11.874142 11.893088 11.95162  11.96248  12.049536 12.055188 12.063633\n",
      " 12.088909 12.143346 12.197303 12.204516 12.244347 12.825209 13.063956]\n"
     ]
    }
   ],
   "source": [
    "loss = np.empty((0))\n",
    "samples = np.empty((0, 38))\n",
    "for i in range(112):\n",
    "    _loss = np.loadtxt('data_full/Local_Minimizer/Loss_%d.txt' % i)\n",
    "    _samples = np.loadtxt('data_full/Local_Minimizer/Samples_%d.txt' % i)\n",
    "\n",
    "    loss = np.hstack([loss, _loss[-1]])\n",
    "    samples = np.vstack([samples, _samples[-1]])\n",
    "\n",
    "idx = np.argsort(loss)\n",
    "loss = loss[idx]\n",
    "samples = samples[idx]\n",
    "\n",
    "np.savetxt('x_init_full.txt', samples)\n",
    "\n",
    "print(loss)"
   ]
  },
  {
   "cell_type": "code",
   "execution_count": 30,
   "metadata": {},
   "outputs": [
    {
     "name": "stdout",
     "output_type": "stream",
     "text": [
      "2.95680 0.38230 0.54130 -0.33090 -0.20760 0.18420 -0.71710 0.38980 0.53990 -1.11700 -0.17710 0.01970 -0.02550 0.01000 0.23130 -0.40040 -0.09920 -0.05990 0.04740 -0.64360 0.41920 -1.53040 1.07630 0.18520 0.24500 -0.19280 -1.58840 3.20390 12.09120 -0.18200 0.64280 -1.63510 0.62110 -0.52450 0.01940 0.02010 -0.03160 0.00730 \n"
     ]
    }
   ],
   "source": [
    "loss = np.loadtxt('loss_full_3.txt')\n",
    "\n",
    "idx = np.argsort(loss)\n",
    "\n",
    "loss = loss[idx]\n",
    "\n",
    "samples = samples[idx]\n",
    "\n",
    "str = ''\n",
    "\n",
    "for _x in samples[1]:\n",
    "    str += '%.5f ' % _x\n",
    "\n",
    "print(str)"
   ]
  },
  {
   "cell_type": "code",
   "execution_count": 31,
   "metadata": {},
   "outputs": [
    {
     "name": "stdout",
     "output_type": "stream",
     "text": [
      "[16.450888 16.519182 16.539844 16.545215 16.546214 16.597261 16.614185\n",
      " 16.641815 16.666014 16.667313 16.683088 16.684115 16.689581 16.699942\n",
      " 16.706841 16.711134 16.71149  16.742742 16.748665 16.751773 16.763617\n",
      " 16.771749 16.77374  16.775578 16.787694 16.804468 16.827248 16.838793\n",
      " 16.860756 16.862833 16.868076 16.875954 16.885105 16.903761 16.909539\n",
      " 16.927483 16.936389 16.957891 16.966972 16.972405 16.978097 16.988328\n",
      " 17.006461 17.028322 17.052976 17.058703 17.065939 17.072446 17.080373\n",
      " 17.093773 17.095598 17.125221 17.140623 17.145998 17.158964 17.172333\n",
      " 17.17276  17.175183 17.234731 17.283463 17.308786 17.325654 17.327091\n",
      " 17.338404 17.345621 17.371898 17.410211 17.414461 17.461843 17.50368\n",
      " 17.511239 17.51148  17.518877 17.542988 17.5615   17.621741 17.680357\n",
      " 17.793332 17.807024 17.84898  17.858507 17.886147 17.903623 17.98478\n",
      " 18.046411 18.052116 18.082502 18.08783  18.09269  18.142932 18.145002\n",
      " 18.172014 18.237428 18.341453 18.404843 18.463944 18.494368 18.496078\n",
      " 18.509421 18.534412 18.655745 18.736543 18.739817 18.886872 18.976478\n",
      " 19.090677 19.263119 19.29285  19.441669 19.529123 19.90519  20.502691]\n"
     ]
    }
   ],
   "source": [
    "loss = np.empty((0))\n",
    "samples = np.empty((0, 24))\n",
    "for i in range(112):\n",
    "    _loss = np.loadtxt('data_1/Local_Minimizer/Loss_%d.txt' % i)\n",
    "    _samples = np.loadtxt('data_1/Local_Minimizer/Samples_%d.txt' % i)\n",
    "\n",
    "    loss = np.hstack([loss, _loss.min()])\n",
    "    samples = np.vstack([samples, _samples[_loss.argmin()]])\n",
    "\n",
    "idx = np.argsort(loss)\n",
    "loss = loss[idx]\n",
    "samples = samples[idx]\n",
    "\n",
    "np.savetxt('x_init1.txt', samples)\n",
    "\n",
    "print(loss)"
   ]
  },
  {
   "cell_type": "code",
   "execution_count": 32,
   "metadata": {},
   "outputs": [
    {
     "name": "stdout",
     "output_type": "stream",
     "text": [
      "[ 26.2420929   27.06936957  27.10264081  28.37770791  29.27787138\n",
      "  29.50885605  29.81139365  30.00638789  30.08500889  30.51682646\n",
      "  30.62670168  30.62909162  30.65329307  30.67609457  30.88679924\n",
      "  30.92963472  30.94922368  30.9498727   30.95294942  31.02435188\n",
      "  31.02714239  31.19278839  31.44676438  31.52658751  31.56243005\n",
      "  31.66241659  31.74265204  31.75104009  32.29599666  32.3079651\n",
      "  32.42092853  32.62111502  32.68387822  32.68750419  32.86962624\n",
      "  32.91306147  32.97464642  33.05913873  33.10359725  33.39197789\n",
      "  33.42346216  33.48806729  33.49667308  33.50046875  33.5509873\n",
      "  33.77442432  33.9000902   34.31367819  34.37966155  34.72832889\n",
      "  34.8685782   34.87190577  34.89169136  34.96782767  34.96785377\n",
      "  35.13740782  35.22518106  35.25804244  35.48035117  35.51611681\n",
      "  35.6625142   35.7465583   35.76144419  35.80268834  35.97912506\n",
      "  36.0136938   36.05360763  36.18755619  36.3266651   36.47518785\n",
      "  36.53001358  36.66234498  36.67744969  38.10482091  38.69864916\n",
      "  40.3760863   40.66831053  40.72832861  42.038988    42.4153802\n",
      "  43.40386406  43.65947958  43.7494215   44.63353809  44.83176187\n",
      "  46.3362433   48.12409148 129.67304516 131.03287316 132.97837698\n",
      " 133.28320799 135.2845382  135.66072804 136.62426682 138.48255112\n",
      " 138.97510798 140.58472713 158.94692961 230.38273378 231.02668618\n",
      " 231.7322743  232.14254845 233.04603378 234.31724694 234.72490752\n",
      " 235.75450255 236.18609802 244.81597931 249.49453292 250.9122951\n",
      " 255.3630118  262.96422043]\n",
      "0.80920 0.56610 0.43120 0.36490 -0.35490 1.57640 -0.08620 0.07010 0.08430 1.22020 -1.90860 1.92130 4.29520 2.80800 -0.28240 0.45030 -0.23070 0.75620 -0.31900 0.08130 3.19460 0.03370 -0.07340 -0.00060 \n"
     ]
    }
   ],
   "source": [
    "loss = np.loadtxt('loss2.txt')\n",
    "\n",
    "idx = np.argsort(loss)\n",
    "\n",
    "loss = loss[idx]\n",
    "\n",
    "samples = samples[idx]\n",
    "\n",
    "print(loss)\n",
    "str = ''\n",
    "\n",
    "for _x in samples[0]:\n",
    "    str += '%.5f ' % _x\n",
    "\n",
    "print(str)"
   ]
  },
  {
   "cell_type": "code",
   "execution_count": 33,
   "metadata": {},
   "outputs": [
    {
     "name": "stdout",
     "output_type": "stream",
     "text": [
      "[16.6842364  16.85353736 16.95393449 17.44686192 17.60309023 17.82264445\n",
      " 18.00210036 18.17407659 18.22710416 18.24817824 18.2773961  18.34054449\n",
      " 18.47217751 18.51630942 18.66110637 18.68896748 18.69122804 18.73196015\n",
      " 18.74769073 18.82005649 18.84108341 18.8637827  18.95590047 19.026145\n",
      " 19.06405595 19.07014516 19.08347956 19.08534388 19.09710709 19.10549139\n",
      " 19.17175903 19.19218489 19.23056171 19.25142611 19.25558968 19.26314073\n",
      " 19.26517217 19.27254056 19.28991702 19.31099945 19.32988055 19.34671159\n",
      " 19.40378334 19.43803292 19.46897034 19.47933088 19.48826908 19.50183077\n",
      " 19.51293712 19.53269956 19.54970032 19.59830495 19.63428075 19.71829863\n",
      " 19.7310571  19.73193869 19.82708429 20.08093236 20.3040416  20.55855532\n",
      " 20.6304739  20.86487665 21.0570368  21.07728841 21.16276921 21.27232506\n",
      " 21.28785726 21.34871602 21.48212879 21.86278554 21.86656696 21.89498354\n",
      " 21.96460264 22.07186468 22.09597864 22.19188815 22.30985614 22.50647488\n",
      " 22.52680488 22.56088074 22.63120286 22.69763061 22.80867079 22.81689752\n",
      " 22.89292092 23.00758243 23.02775574 23.07286748 23.10122426 23.12713064\n",
      " 23.1396563  23.14069803 23.18169312 23.37440743 23.40722341 23.44611521\n",
      " 23.45413555 23.48624576 23.52984908 23.53876305 23.54357348 23.56690537\n",
      " 26.96708185 27.0934418  27.53681389 27.99138998 28.4689808  28.64288659\n",
      " 29.49794086 29.8639878  29.93504305 30.10518978 30.1217349  30.40381425\n",
      " 30.42279797 30.77917599 30.90460636 31.01805041 31.69281863 31.86368703\n",
      " 31.97812917 32.19653708 32.19800533 32.36512236 32.58696156 33.01930555\n",
      " 33.0750904  33.28317959 33.62366831 33.67747441 33.71474476 33.81288495\n",
      " 33.84101892 33.94521574 34.02781731 34.04452764 34.05070005 34.24836056\n",
      " 34.56416427 34.58373565 34.65244778 34.68411024 34.71203831 34.7310517\n",
      " 34.75164666 34.85961718 34.86728801 35.06384612 35.12818816 35.14452129]\n"
     ]
    }
   ],
   "source": [
    "loss = np.empty((0))\n",
    "samples = np.empty((0, 24))\n",
    "for i in range(1, 4):\n",
    "    _loss = np.loadtxt('data_1/gmm/GMM_%d/Filtered_Loss.txt' % i)\n",
    "    _samples = np.loadtxt('data_1/gmm/GMM_%d/Filtered_Samples.txt' % i)\n",
    "\n",
    "    loss = np.hstack([loss, _loss[:50]])\n",
    "    samples = np.vstack([samples, _samples[:50]])\n",
    "\n",
    "idx = np.argsort(loss)\n",
    "loss = loss[idx]\n",
    "samples = samples[idx]\n",
    "\n",
    "np.savetxt('x_init2.txt', samples)\n",
    "\n",
    "print(loss)"
   ]
  },
  {
   "cell_type": "code",
   "execution_count": 34,
   "metadata": {},
   "outputs": [
    {
     "name": "stdout",
     "output_type": "stream",
     "text": [
      "2.45918 0.76736 -0.47342 0.02206 0.12756 1.74035 -0.08889 0.08831 0.11651 1.32132 -2.40240 2.87470 4.32492 2.84689 -0.30433 0.80012 -1.40985 0.27091 -0.49250 -0.04257 2.99325 0.04844 -0.00214 0.07511 \n"
     ]
    }
   ],
   "source": [
    "loss = np.loadtxt('loss1.txt')\n",
    "\n",
    "idx = np.argsort(loss)\n",
    "\n",
    "loss = loss[idx]\n",
    "\n",
    "samples = samples[idx]\n",
    "\n",
    "\n",
    "str = ''\n",
    "\n",
    "for _x in samples[3]:\n",
    "    str += '%.5f ' % _x\n",
    "\n",
    "print(str)"
   ]
  },
  {
   "cell_type": "code",
   "execution_count": 35,
   "metadata": {},
   "outputs": [
    {
     "name": "stdout",
     "output_type": "stream",
     "text": [
      "Initial components and BIC: 1 -59116.44773043344\n",
      "Components: 2 BIC: -12086.749476451316 Previous BIC: -59116.44773043344\n",
      "Optimal number of components: 1\n"
     ]
    },
    {
     "data": {
      "text/html": [
       "<style>#sk-container-id-2 {\n",
       "  /* Definition of color scheme common for light and dark mode */\n",
       "  --sklearn-color-text: black;\n",
       "  --sklearn-color-line: gray;\n",
       "  /* Definition of color scheme for unfitted estimators */\n",
       "  --sklearn-color-unfitted-level-0: #fff5e6;\n",
       "  --sklearn-color-unfitted-level-1: #f6e4d2;\n",
       "  --sklearn-color-unfitted-level-2: #ffe0b3;\n",
       "  --sklearn-color-unfitted-level-3: chocolate;\n",
       "  /* Definition of color scheme for fitted estimators */\n",
       "  --sklearn-color-fitted-level-0: #f0f8ff;\n",
       "  --sklearn-color-fitted-level-1: #d4ebff;\n",
       "  --sklearn-color-fitted-level-2: #b3dbfd;\n",
       "  --sklearn-color-fitted-level-3: cornflowerblue;\n",
       "\n",
       "  /* Specific color for light theme */\n",
       "  --sklearn-color-text-on-default-background: var(--sg-text-color, var(--theme-code-foreground, var(--jp-content-font-color1, black)));\n",
       "  --sklearn-color-background: var(--sg-background-color, var(--theme-background, var(--jp-layout-color0, white)));\n",
       "  --sklearn-color-border-box: var(--sg-text-color, var(--theme-code-foreground, var(--jp-content-font-color1, black)));\n",
       "  --sklearn-color-icon: #696969;\n",
       "\n",
       "  @media (prefers-color-scheme: dark) {\n",
       "    /* Redefinition of color scheme for dark theme */\n",
       "    --sklearn-color-text-on-default-background: var(--sg-text-color, var(--theme-code-foreground, var(--jp-content-font-color1, white)));\n",
       "    --sklearn-color-background: var(--sg-background-color, var(--theme-background, var(--jp-layout-color0, #111)));\n",
       "    --sklearn-color-border-box: var(--sg-text-color, var(--theme-code-foreground, var(--jp-content-font-color1, white)));\n",
       "    --sklearn-color-icon: #878787;\n",
       "  }\n",
       "}\n",
       "\n",
       "#sk-container-id-2 {\n",
       "  color: var(--sklearn-color-text);\n",
       "}\n",
       "\n",
       "#sk-container-id-2 pre {\n",
       "  padding: 0;\n",
       "}\n",
       "\n",
       "#sk-container-id-2 input.sk-hidden--visually {\n",
       "  border: 0;\n",
       "  clip: rect(1px 1px 1px 1px);\n",
       "  clip: rect(1px, 1px, 1px, 1px);\n",
       "  height: 1px;\n",
       "  margin: -1px;\n",
       "  overflow: hidden;\n",
       "  padding: 0;\n",
       "  position: absolute;\n",
       "  width: 1px;\n",
       "}\n",
       "\n",
       "#sk-container-id-2 div.sk-dashed-wrapped {\n",
       "  border: 1px dashed var(--sklearn-color-line);\n",
       "  margin: 0 0.4em 0.5em 0.4em;\n",
       "  box-sizing: border-box;\n",
       "  padding-bottom: 0.4em;\n",
       "  background-color: var(--sklearn-color-background);\n",
       "}\n",
       "\n",
       "#sk-container-id-2 div.sk-container {\n",
       "  /* jupyter's `normalize.less` sets `[hidden] { display: none; }`\n",
       "     but bootstrap.min.css set `[hidden] { display: none !important; }`\n",
       "     so we also need the `!important` here to be able to override the\n",
       "     default hidden behavior on the sphinx rendered scikit-learn.org.\n",
       "     See: https://github.com/scikit-learn/scikit-learn/issues/21755 */\n",
       "  display: inline-block !important;\n",
       "  position: relative;\n",
       "}\n",
       "\n",
       "#sk-container-id-2 div.sk-text-repr-fallback {\n",
       "  display: none;\n",
       "}\n",
       "\n",
       "div.sk-parallel-item,\n",
       "div.sk-serial,\n",
       "div.sk-item {\n",
       "  /* draw centered vertical line to link estimators */\n",
       "  background-image: linear-gradient(var(--sklearn-color-text-on-default-background), var(--sklearn-color-text-on-default-background));\n",
       "  background-size: 2px 100%;\n",
       "  background-repeat: no-repeat;\n",
       "  background-position: center center;\n",
       "}\n",
       "\n",
       "/* Parallel-specific style estimator block */\n",
       "\n",
       "#sk-container-id-2 div.sk-parallel-item::after {\n",
       "  content: \"\";\n",
       "  width: 100%;\n",
       "  border-bottom: 2px solid var(--sklearn-color-text-on-default-background);\n",
       "  flex-grow: 1;\n",
       "}\n",
       "\n",
       "#sk-container-id-2 div.sk-parallel {\n",
       "  display: flex;\n",
       "  align-items: stretch;\n",
       "  justify-content: center;\n",
       "  background-color: var(--sklearn-color-background);\n",
       "  position: relative;\n",
       "}\n",
       "\n",
       "#sk-container-id-2 div.sk-parallel-item {\n",
       "  display: flex;\n",
       "  flex-direction: column;\n",
       "}\n",
       "\n",
       "#sk-container-id-2 div.sk-parallel-item:first-child::after {\n",
       "  align-self: flex-end;\n",
       "  width: 50%;\n",
       "}\n",
       "\n",
       "#sk-container-id-2 div.sk-parallel-item:last-child::after {\n",
       "  align-self: flex-start;\n",
       "  width: 50%;\n",
       "}\n",
       "\n",
       "#sk-container-id-2 div.sk-parallel-item:only-child::after {\n",
       "  width: 0;\n",
       "}\n",
       "\n",
       "/* Serial-specific style estimator block */\n",
       "\n",
       "#sk-container-id-2 div.sk-serial {\n",
       "  display: flex;\n",
       "  flex-direction: column;\n",
       "  align-items: center;\n",
       "  background-color: var(--sklearn-color-background);\n",
       "  padding-right: 1em;\n",
       "  padding-left: 1em;\n",
       "}\n",
       "\n",
       "\n",
       "/* Toggleable style: style used for estimator/Pipeline/ColumnTransformer box that is\n",
       "clickable and can be expanded/collapsed.\n",
       "- Pipeline and ColumnTransformer use this feature and define the default style\n",
       "- Estimators will overwrite some part of the style using the `sk-estimator` class\n",
       "*/\n",
       "\n",
       "/* Pipeline and ColumnTransformer style (default) */\n",
       "\n",
       "#sk-container-id-2 div.sk-toggleable {\n",
       "  /* Default theme specific background. It is overwritten whether we have a\n",
       "  specific estimator or a Pipeline/ColumnTransformer */\n",
       "  background-color: var(--sklearn-color-background);\n",
       "}\n",
       "\n",
       "/* Toggleable label */\n",
       "#sk-container-id-2 label.sk-toggleable__label {\n",
       "  cursor: pointer;\n",
       "  display: block;\n",
       "  width: 100%;\n",
       "  margin-bottom: 0;\n",
       "  padding: 0.5em;\n",
       "  box-sizing: border-box;\n",
       "  text-align: center;\n",
       "}\n",
       "\n",
       "#sk-container-id-2 label.sk-toggleable__label-arrow:before {\n",
       "  /* Arrow on the left of the label */\n",
       "  content: \"▸\";\n",
       "  float: left;\n",
       "  margin-right: 0.25em;\n",
       "  color: var(--sklearn-color-icon);\n",
       "}\n",
       "\n",
       "#sk-container-id-2 label.sk-toggleable__label-arrow:hover:before {\n",
       "  color: var(--sklearn-color-text);\n",
       "}\n",
       "\n",
       "/* Toggleable content - dropdown */\n",
       "\n",
       "#sk-container-id-2 div.sk-toggleable__content {\n",
       "  max-height: 0;\n",
       "  max-width: 0;\n",
       "  overflow: hidden;\n",
       "  text-align: left;\n",
       "  /* unfitted */\n",
       "  background-color: var(--sklearn-color-unfitted-level-0);\n",
       "}\n",
       "\n",
       "#sk-container-id-2 div.sk-toggleable__content.fitted {\n",
       "  /* fitted */\n",
       "  background-color: var(--sklearn-color-fitted-level-0);\n",
       "}\n",
       "\n",
       "#sk-container-id-2 div.sk-toggleable__content pre {\n",
       "  margin: 0.2em;\n",
       "  border-radius: 0.25em;\n",
       "  color: var(--sklearn-color-text);\n",
       "  /* unfitted */\n",
       "  background-color: var(--sklearn-color-unfitted-level-0);\n",
       "}\n",
       "\n",
       "#sk-container-id-2 div.sk-toggleable__content.fitted pre {\n",
       "  /* unfitted */\n",
       "  background-color: var(--sklearn-color-fitted-level-0);\n",
       "}\n",
       "\n",
       "#sk-container-id-2 input.sk-toggleable__control:checked~div.sk-toggleable__content {\n",
       "  /* Expand drop-down */\n",
       "  max-height: 200px;\n",
       "  max-width: 100%;\n",
       "  overflow: auto;\n",
       "}\n",
       "\n",
       "#sk-container-id-2 input.sk-toggleable__control:checked~label.sk-toggleable__label-arrow:before {\n",
       "  content: \"▾\";\n",
       "}\n",
       "\n",
       "/* Pipeline/ColumnTransformer-specific style */\n",
       "\n",
       "#sk-container-id-2 div.sk-label input.sk-toggleable__control:checked~label.sk-toggleable__label {\n",
       "  color: var(--sklearn-color-text);\n",
       "  background-color: var(--sklearn-color-unfitted-level-2);\n",
       "}\n",
       "\n",
       "#sk-container-id-2 div.sk-label.fitted input.sk-toggleable__control:checked~label.sk-toggleable__label {\n",
       "  background-color: var(--sklearn-color-fitted-level-2);\n",
       "}\n",
       "\n",
       "/* Estimator-specific style */\n",
       "\n",
       "/* Colorize estimator box */\n",
       "#sk-container-id-2 div.sk-estimator input.sk-toggleable__control:checked~label.sk-toggleable__label {\n",
       "  /* unfitted */\n",
       "  background-color: var(--sklearn-color-unfitted-level-2);\n",
       "}\n",
       "\n",
       "#sk-container-id-2 div.sk-estimator.fitted input.sk-toggleable__control:checked~label.sk-toggleable__label {\n",
       "  /* fitted */\n",
       "  background-color: var(--sklearn-color-fitted-level-2);\n",
       "}\n",
       "\n",
       "#sk-container-id-2 div.sk-label label.sk-toggleable__label,\n",
       "#sk-container-id-2 div.sk-label label {\n",
       "  /* The background is the default theme color */\n",
       "  color: var(--sklearn-color-text-on-default-background);\n",
       "}\n",
       "\n",
       "/* On hover, darken the color of the background */\n",
       "#sk-container-id-2 div.sk-label:hover label.sk-toggleable__label {\n",
       "  color: var(--sklearn-color-text);\n",
       "  background-color: var(--sklearn-color-unfitted-level-2);\n",
       "}\n",
       "\n",
       "/* Label box, darken color on hover, fitted */\n",
       "#sk-container-id-2 div.sk-label.fitted:hover label.sk-toggleable__label.fitted {\n",
       "  color: var(--sklearn-color-text);\n",
       "  background-color: var(--sklearn-color-fitted-level-2);\n",
       "}\n",
       "\n",
       "/* Estimator label */\n",
       "\n",
       "#sk-container-id-2 div.sk-label label {\n",
       "  font-family: monospace;\n",
       "  font-weight: bold;\n",
       "  display: inline-block;\n",
       "  line-height: 1.2em;\n",
       "}\n",
       "\n",
       "#sk-container-id-2 div.sk-label-container {\n",
       "  text-align: center;\n",
       "}\n",
       "\n",
       "/* Estimator-specific */\n",
       "#sk-container-id-2 div.sk-estimator {\n",
       "  font-family: monospace;\n",
       "  border: 1px dotted var(--sklearn-color-border-box);\n",
       "  border-radius: 0.25em;\n",
       "  box-sizing: border-box;\n",
       "  margin-bottom: 0.5em;\n",
       "  /* unfitted */\n",
       "  background-color: var(--sklearn-color-unfitted-level-0);\n",
       "}\n",
       "\n",
       "#sk-container-id-2 div.sk-estimator.fitted {\n",
       "  /* fitted */\n",
       "  background-color: var(--sklearn-color-fitted-level-0);\n",
       "}\n",
       "\n",
       "/* on hover */\n",
       "#sk-container-id-2 div.sk-estimator:hover {\n",
       "  /* unfitted */\n",
       "  background-color: var(--sklearn-color-unfitted-level-2);\n",
       "}\n",
       "\n",
       "#sk-container-id-2 div.sk-estimator.fitted:hover {\n",
       "  /* fitted */\n",
       "  background-color: var(--sklearn-color-fitted-level-2);\n",
       "}\n",
       "\n",
       "/* Specification for estimator info (e.g. \"i\" and \"?\") */\n",
       "\n",
       "/* Common style for \"i\" and \"?\" */\n",
       "\n",
       ".sk-estimator-doc-link,\n",
       "a:link.sk-estimator-doc-link,\n",
       "a:visited.sk-estimator-doc-link {\n",
       "  float: right;\n",
       "  font-size: smaller;\n",
       "  line-height: 1em;\n",
       "  font-family: monospace;\n",
       "  background-color: var(--sklearn-color-background);\n",
       "  border-radius: 1em;\n",
       "  height: 1em;\n",
       "  width: 1em;\n",
       "  text-decoration: none !important;\n",
       "  margin-left: 1ex;\n",
       "  /* unfitted */\n",
       "  border: var(--sklearn-color-unfitted-level-1) 1pt solid;\n",
       "  color: var(--sklearn-color-unfitted-level-1);\n",
       "}\n",
       "\n",
       ".sk-estimator-doc-link.fitted,\n",
       "a:link.sk-estimator-doc-link.fitted,\n",
       "a:visited.sk-estimator-doc-link.fitted {\n",
       "  /* fitted */\n",
       "  border: var(--sklearn-color-fitted-level-1) 1pt solid;\n",
       "  color: var(--sklearn-color-fitted-level-1);\n",
       "}\n",
       "\n",
       "/* On hover */\n",
       "div.sk-estimator:hover .sk-estimator-doc-link:hover,\n",
       ".sk-estimator-doc-link:hover,\n",
       "div.sk-label-container:hover .sk-estimator-doc-link:hover,\n",
       ".sk-estimator-doc-link:hover {\n",
       "  /* unfitted */\n",
       "  background-color: var(--sklearn-color-unfitted-level-3);\n",
       "  color: var(--sklearn-color-background);\n",
       "  text-decoration: none;\n",
       "}\n",
       "\n",
       "div.sk-estimator.fitted:hover .sk-estimator-doc-link.fitted:hover,\n",
       ".sk-estimator-doc-link.fitted:hover,\n",
       "div.sk-label-container:hover .sk-estimator-doc-link.fitted:hover,\n",
       ".sk-estimator-doc-link.fitted:hover {\n",
       "  /* fitted */\n",
       "  background-color: var(--sklearn-color-fitted-level-3);\n",
       "  color: var(--sklearn-color-background);\n",
       "  text-decoration: none;\n",
       "}\n",
       "\n",
       "/* Span, style for the box shown on hovering the info icon */\n",
       ".sk-estimator-doc-link span {\n",
       "  display: none;\n",
       "  z-index: 9999;\n",
       "  position: relative;\n",
       "  font-weight: normal;\n",
       "  right: .2ex;\n",
       "  padding: .5ex;\n",
       "  margin: .5ex;\n",
       "  width: min-content;\n",
       "  min-width: 20ex;\n",
       "  max-width: 50ex;\n",
       "  color: var(--sklearn-color-text);\n",
       "  box-shadow: 2pt 2pt 4pt #999;\n",
       "  /* unfitted */\n",
       "  background: var(--sklearn-color-unfitted-level-0);\n",
       "  border: .5pt solid var(--sklearn-color-unfitted-level-3);\n",
       "}\n",
       "\n",
       ".sk-estimator-doc-link.fitted span {\n",
       "  /* fitted */\n",
       "  background: var(--sklearn-color-fitted-level-0);\n",
       "  border: var(--sklearn-color-fitted-level-3);\n",
       "}\n",
       "\n",
       ".sk-estimator-doc-link:hover span {\n",
       "  display: block;\n",
       "}\n",
       "\n",
       "/* \"?\"-specific style due to the `<a>` HTML tag */\n",
       "\n",
       "#sk-container-id-2 a.estimator_doc_link {\n",
       "  float: right;\n",
       "  font-size: 1rem;\n",
       "  line-height: 1em;\n",
       "  font-family: monospace;\n",
       "  background-color: var(--sklearn-color-background);\n",
       "  border-radius: 1rem;\n",
       "  height: 1rem;\n",
       "  width: 1rem;\n",
       "  text-decoration: none;\n",
       "  /* unfitted */\n",
       "  color: var(--sklearn-color-unfitted-level-1);\n",
       "  border: var(--sklearn-color-unfitted-level-1) 1pt solid;\n",
       "}\n",
       "\n",
       "#sk-container-id-2 a.estimator_doc_link.fitted {\n",
       "  /* fitted */\n",
       "  border: var(--sklearn-color-fitted-level-1) 1pt solid;\n",
       "  color: var(--sklearn-color-fitted-level-1);\n",
       "}\n",
       "\n",
       "/* On hover */\n",
       "#sk-container-id-2 a.estimator_doc_link:hover {\n",
       "  /* unfitted */\n",
       "  background-color: var(--sklearn-color-unfitted-level-3);\n",
       "  color: var(--sklearn-color-background);\n",
       "  text-decoration: none;\n",
       "}\n",
       "\n",
       "#sk-container-id-2 a.estimator_doc_link.fitted:hover {\n",
       "  /* fitted */\n",
       "  background-color: var(--sklearn-color-fitted-level-3);\n",
       "}\n",
       "</style><div id=\"sk-container-id-2\" class=\"sk-top-container\"><div class=\"sk-text-repr-fallback\"><pre>GaussianMixture(covariance_type=&#x27;diag&#x27;, reg_covar=0.001)</pre><b>In a Jupyter environment, please rerun this cell to show the HTML representation or trust the notebook. <br />On GitHub, the HTML representation is unable to render, please try loading this page with nbviewer.org.</b></div><div class=\"sk-container\" hidden><div class=\"sk-item\"><div class=\"sk-estimator fitted sk-toggleable\"><input class=\"sk-toggleable__control sk-hidden--visually\" id=\"sk-estimator-id-2\" type=\"checkbox\" checked><label for=\"sk-estimator-id-2\" class=\"sk-toggleable__label fitted sk-toggleable__label-arrow fitted\">&nbsp;&nbsp;GaussianMixture<a class=\"sk-estimator-doc-link fitted\" rel=\"noreferrer\" target=\"_blank\" href=\"https://scikit-learn.org/1.5/modules/generated/sklearn.mixture.GaussianMixture.html\">?<span>Documentation for GaussianMixture</span></a><span class=\"sk-estimator-doc-link fitted\">i<span>Fitted</span></span></label><div class=\"sk-toggleable__content fitted\"><pre>GaussianMixture(covariance_type=&#x27;diag&#x27;, reg_covar=0.001)</pre></div> </div></div></div></div>"
      ],
      "text/plain": [
       "GaussianMixture(covariance_type='diag', reg_covar=0.001)"
      ]
     },
     "execution_count": 35,
     "metadata": {},
     "output_type": "execute_result"
    }
   ],
   "source": [
    "data = np.loadtxt('data_1/gmm/GMM_3/Filtered_Samples.txt')\n",
    "cmp = 1\n",
    "gmm = GaussianMixture(n_components=cmp, covariance_type='full', reg_covar=1e-6)\n",
    "gmm.fit(data)\n",
    "bic_val = gmm.bic(data)\n",
    "bic_val_prev = bic_val\n",
    "\n",
    "print(\"Initial components and BIC:\", cmp, bic_val)\n",
    "\n",
    "while True:\n",
    "    cmp += 1\n",
    "    bic_val_prev = bic_val\n",
    "    gmm = GaussianMixture(n_components=cmp, covariance_type='full', reg_covar=4e-3)\n",
    "    gmm.fit(data)\n",
    "    bic_val = gmm.bic(data)\n",
    "    print(\"Components:\", cmp, \"BIC:\", bic_val, \"Previous BIC:\", bic_val_prev)\n",
    "\n",
    "    if 1.01 * bic_val > bic_val_prev:\n",
    "        break\n",
    "\n",
    "final_components = cmp - 1\n",
    "print(\"Optimal number of components:\", final_components)\n",
    "\n",
    "gmm = GaussianMixture(n_components=final_components, covariance_type='diag', reg_covar=1e-3)\n",
    "gmm.fit(data)\n"
   ]
  },
  {
   "cell_type": "code",
   "execution_count": 36,
   "metadata": {},
   "outputs": [
    {
     "name": "stdout",
     "output_type": "stream",
     "text": [
      "[[ 1.70725415e+00  5.78549234e-01  4.47690380e-01 -3.00183634e-01\n",
      "  -2.27587430e-02  1.67530723e+00  1.34292627e-02 -2.52458957e-02\n",
      "   3.20353254e-02  1.47194598e+00 -1.88635914e+00  2.26888743e+00\n",
      "   4.15436869e+00  2.67839572e+00 -2.46904591e-01  4.49475735e-01\n",
      "  -3.89764744e-01  6.63086073e-01 -4.78320541e-01 -7.66529041e-04\n",
      "   3.22855838e+00  4.63897669e-02 -2.87137611e-02  1.28601830e-02]]\n"
     ]
    }
   ],
   "source": [
    "print(gmm.means_)"
   ]
  },
  {
   "cell_type": "code",
   "execution_count": 37,
   "metadata": {},
   "outputs": [
    {
     "name": "stdout",
     "output_type": "stream",
     "text": [
      "[[8.34085970e-01 7.20910407e-02 4.42143516e-01 3.76908424e-01\n",
      "  5.02918233e-01 1.93735310e-01 5.52308886e-03 1.34491729e-02\n",
      "  5.85653930e-02 5.95160658e-02 2.95486201e-01 5.81199668e-01\n",
      "  8.11135247e+00 6.43083428e-02 1.97569387e-02 5.35714337e-02\n",
      "  5.67343321e-01 3.39417941e-02 4.09744864e-02 4.47206373e-03\n",
      "  7.10042376e-02 2.16339050e-03 2.70323577e-03 4.31636814e-03]]\n"
     ]
    }
   ],
   "source": [
    "print(gmm.covariances_)"
   ]
  },
  {
   "cell_type": "code",
   "execution_count": 38,
   "metadata": {},
   "outputs": [
    {
     "name": "stdout",
     "output_type": "stream",
     "text": [
      "[34.77607632 37.1675777  38.84907554 ... 55.17423417 55.17425823\n",
      " 55.17444229]\n"
     ]
    }
   ],
   "source": [
    "loss = np.loadtxt('data_2/GMM_3/Filtered_Loss.txt')\n",
    "samples = np.loadtxt('data_2/GMM_3/Filtered_Samples.txt')\n",
    " \n",
    "# idx = np.argsort(loss)\n",
    "# loss = loss[idx]\n",
    "# samples = samples[idx]\n",
    "\n",
    "np.savetxt('x_init3.txt', samples[:112])\n",
    "\n",
    "print(loss)"
   ]
  },
  {
   "cell_type": "code",
   "execution_count": 39,
   "metadata": {},
   "outputs": [
    {
     "name": "stdout",
     "output_type": "stream",
     "text": [
      "4.63396 0.61600 -0.43896 -0.56729 -0.07344 2.14481 -0.03136 -0.01379 0.26065 1.50671 -1.29392 3.60498 -1.75958 2.20295 -0.43494 0.39609 -0.04317 0.45422 -0.43499 -0.04678 3.27632 -0.01207 -0.08590 0.10211 \n"
     ]
    }
   ],
   "source": [
    "loss = np.loadtxt('loss3.txt')\n",
    "\n",
    "idx = np.argsort(loss)\n",
    "\n",
    "loss = loss[idx]\n",
    "\n",
    "samples = samples[idx]\n",
    "\n",
    "\n",
    "str = ''\n",
    "\n",
    "for _x in samples[0]:\n",
    "    str += '%.5f ' % _x\n",
    "\n",
    "print(str)"
   ]
  },
  {
   "cell_type": "code",
   "execution_count": 40,
   "metadata": {},
   "outputs": [
    {
     "name": "stdout",
     "output_type": "stream",
     "text": [
      "[34.147761 34.157133 34.163786 34.172271 34.181601 34.188038 34.24584\n",
      " 34.262896 34.301721 34.302425 34.316418 34.319033 34.370477 34.374024\n",
      " 34.38401  34.390716 34.398409 34.413598 34.415989 34.477042 34.489192\n",
      " 34.494006 34.49542  34.497675 34.50859  34.509774 34.510552 34.528626\n",
      " 34.535736 34.542014 34.549613 34.55307  34.556578 34.583015 34.585898\n",
      " 34.599369 34.63843  34.687192 34.698397 34.770189 34.772149 34.77843\n",
      " 34.796301 34.807948 34.826479 34.827557 34.828213 34.848869 34.85155\n",
      " 34.861138 34.941068 34.943309 35.00479  35.045157 35.056617 35.171674\n",
      " 35.179994 35.186036 35.203888 35.236351 35.263895 35.283277 35.330227\n",
      " 35.33884  35.459293 35.461316 35.49452  35.540351 35.555912 35.585781\n",
      " 35.62182  35.632245 35.639011 35.639155 35.645755 35.653261 35.677858\n",
      " 35.680515 35.777519 35.79293  35.891641 35.892473 35.902693 35.907206\n",
      " 35.909987 35.928375 35.979638 36.176099 36.336654 36.512907 36.527364\n",
      " 36.571557 36.756496 36.795879 36.855178 36.933046 36.934299 37.029211\n",
      " 37.13333  37.269629 37.295417 37.300194 37.379915 37.450332 37.499133\n",
      " 37.80697  38.072368 38.321669 38.578767 38.607316 39.312855 40.452462]\n"
     ]
    }
   ],
   "source": [
    "loss = np.empty((0))\n",
    "samples = np.empty((0, 24))\n",
    "for i in range(112):\n",
    "    _loss = np.loadtxt('data_2/Local_Minimizer/Loss_%d.txt' % i)\n",
    "    _samples = np.loadtxt('data_2/Local_Minimizer/Samples_%d.txt' % i)\n",
    "\n",
    "    loss = np.hstack([loss, _loss.min()])\n",
    "    samples = np.vstack([samples, _samples[_loss.argmin()]])\n",
    "\n",
    "idx = np.argsort(loss)\n",
    "loss = loss[idx]\n",
    "samples = samples[idx]\n",
    "\n",
    "np.savetxt('x_init4.txt', samples)\n",
    "\n",
    "print(loss)"
   ]
  },
  {
   "cell_type": "code",
   "execution_count": 41,
   "metadata": {},
   "outputs": [
    {
     "name": "stdout",
     "output_type": "stream",
     "text": [
      "3.56040 0.37390 -0.18270 -2.61160 -1.17650 1.61020 -0.04870 -0.01610 0.26210 1.37230 -1.81400 1.99610 3.88870 2.34850 -0.39760 0.28550 0.29340 0.99240 -0.30840 -0.01820 3.16840 -0.04340 0.05460 0.06880 \n"
     ]
    }
   ],
   "source": [
    "loss = np.loadtxt('loss4.txt')\n",
    "\n",
    "idx = np.argsort(loss)\n",
    "\n",
    "loss = loss[idx]\n",
    "\n",
    "samples = samples[idx]\n",
    "\n",
    "\n",
    "str = ''\n",
    "\n",
    "for _x in samples[1]:\n",
    "    str += '%.5f ' % _x\n",
    "\n",
    "print(str)"
   ]
  },
  {
   "cell_type": "code",
   "execution_count": 42,
   "metadata": {},
   "outputs": [
    {
     "data": {
      "text/plain": [
       "<matplotlib.legend.Legend at 0x14edf5210>"
      ]
     },
     "execution_count": 42,
     "metadata": {},
     "output_type": "execute_result"
    },
    {
     "data": {
      "image/png": "[encoded data removed]",
      "text/plain": [
       "<Figure size 640x480 with 1 Axes>"
      ]
     },
     "metadata": {},
     "output_type": "display_data"
    }
   ],
   "source": [
    "ef = np.array([ 9.739468527445752 ,\n",
    "15.482258801608623 ,\n",
    "21.13238517622267 ,\n",
    "25.537742861256447 ,\n",
    "30.705208729300466, \n",
    "35.30218373518892,\n",
    "39.720272870335975])\n",
    "\n",
    "dft = np.array([\t1.1918469970054806,\n",
    "\t1.6788236623538053,\n",
    "\t1.7884061246398102,\n",
    "\t2.1913667438838353,\n",
    "\t2.621871292163399,\n",
    "\t2.3969150799480197])\n",
    "\n",
    "he = 6.7126548176265715\n",
    "\n",
    "eb = []\n",
    "for i in range(1, len(ef)):\n",
    "    eb.append(ef[i-1] + he - ef[i])\n",
    "eb = np.array(eb)\n",
    "plt.plot(np.arange(0, len(eb)), eb, '-o', label = 'eam')\n",
    "plt.plot(np.arange(0, len(dft)), dft, '-o', label = 'dft')\n",
    "plt.title('Binding of Helium to SIA Clusters within Tungsten')\n",
    "plt.ylabel('Binding Energy /eV')\n",
    "plt.xlabel('Size of Helium Cluster')\n",
    "\n",
    "plt.legend()"
   ]
  },
  {
   "cell_type": "code",
   "execution_count": 43,
   "metadata": {},
   "outputs": [
    {
     "name": "stdout",
     "output_type": "stream",
     "text": [
      "[41.898081 41.898111 41.898112 41.898117 41.898121 41.898139 41.898153\n",
      " 41.898155 41.898156 41.898158 41.898177 41.898183 41.898189 41.898194\n",
      " 41.898202 41.898206 41.898207 41.898211 41.898212 41.898217 41.898231\n",
      " 41.898232 41.898234 41.898239 41.89824  41.898247 41.898249 41.898251\n",
      " 41.898253 41.898256 41.898257 41.89827  41.898275 41.898277 41.898281\n",
      " 41.898287 41.898291 41.898292 41.898299 41.8983   41.8983   41.898303\n",
      " 41.898311 41.898312 41.898316 41.898322 41.898326 41.898328 41.89833\n",
      " 41.898332 41.898337 41.898345 41.89835  41.898352 41.898353 41.898354\n",
      " 41.898358 41.898359 41.898365 41.898366 41.898367 41.89837  41.898377\n",
      " 41.898383 41.898386 41.898387 41.898388 41.898394 41.898404 41.898405\n",
      " 41.898406 41.898408 41.898408 41.898412 41.898421 41.898421 41.898427\n",
      " 41.898435 41.898438 41.898441 41.898453 41.898469 41.898469 41.898471\n",
      " 41.898477 41.898481 41.898494 41.898495 41.898498 41.898505 41.898508\n",
      " 41.898508 41.898508 41.898523 41.898527 41.898536 41.898538 41.898551\n",
      " 41.898557 41.89857  41.898579 41.898579 41.898582 41.898586 41.898588\n",
      " 41.898611 41.898638 41.898663 41.898694 41.898714 41.898878 41.898974]\n"
     ]
    }
   ],
   "source": [
    "loss = np.empty((0))\n",
    "samples = np.empty((0, 7))\n",
    "for i in range(112):\n",
    "    _loss = np.loadtxt('data_hhe/Local_Minimizer/Loss_%d.txt' % i)\n",
    "    _samples = np.loadtxt('data_hhe/Local_Minimizer/Samples_%d.txt' % i)\n",
    "\n",
    "    loss = np.hstack([loss, _loss.min()])\n",
    "    samples = np.vstack([samples, _samples[_loss.argmin()]])\n",
    "\n",
    "idx = np.argsort(loss)\n",
    "loss = loss[idx]\n",
    "samples = samples[idx]\n",
    "\n",
    "np.savetxt('x_init_hhe.txt', samples)\n",
    "\n",
    "print(loss)"
   ]
  },
  {
   "cell_type": "code",
   "execution_count": 44,
   "metadata": {},
   "outputs": [
    {
     "name": "stdout",
     "output_type": "stream",
     "text": [
      "63.514905940780835 -0.53170 -0.06380 0.57540 1.92600 -0.00240 -0.04610 0.35140 \n",
      "63.844167788096776 -0.80170 0.29520 0.38370 1.90880 -0.00480 -0.06570 0.33220 \n",
      "63.88163072654607 -0.40590 0.14650 -0.39800 1.99770 -0.00540 -0.04760 0.38880 \n",
      "63.90768597858245 -0.33800 -0.15170 -0.31690 1.98600 -0.00990 -0.07460 0.49050 \n",
      "63.92533637033073 -1.48850 -0.13380 -0.52120 1.63210 0.01260 -0.02320 0.01560 \n",
      "64.02703963758789 -0.93910 0.87050 0.54520 2.15770 -0.01420 -0.03340 0.38490 \n",
      "64.05063722781792 -0.10920 -0.53150 0.04230 1.94360 0.00010 -0.04980 0.37150 \n",
      "64.06221943667981 -0.60800 0.31210 0.29560 1.96800 -0.00610 -0.05910 0.36910 \n",
      "64.08890541217312 -0.89600 0.31350 -0.89580 1.92780 -0.01330 -0.15560 0.74390 \n",
      "64.15936051196384 -0.83150 0.13230 0.62350 1.72270 0.00860 -0.03300 0.05130 \n"
     ]
    }
   ],
   "source": [
    "loss = np.loadtxt('loss_hhe.txt')\n",
    "\n",
    "idx = np.argsort(loss)\n",
    "\n",
    "loss = loss[idx]\n",
    "\n",
    "samples = samples[idx]\n",
    "\n",
    "\n",
    "for i in range(10):\n",
    "    str = ''\n",
    "    for _x in samples[i]:\n",
    "        str += '%.5f ' % _x\n",
    "\n",
    "    print(loss[i], str)"
   ]
  },
  {
   "cell_type": "code",
   "execution_count": 45,
   "metadata": {},
   "outputs": [
    {
     "name": "stdout",
     "output_type": "stream",
     "text": [
      "[53.40421985 53.65856764 53.67821441 ... 55.09600956 55.09601219\n",
      " 55.09602163]\n"
     ]
    }
   ],
   "source": [
    "loss = np.loadtxt('data_hhe/GMM_3/Filtered_Loss.txt')\n",
    "samples = np.loadtxt('data_hhe/GMM_3/Filtered_Samples.txt')\n",
    " \n",
    "# idx = np.argsort(loss)\n",
    "# loss = loss[idx]\n",
    "# samples = samples[idx]\n",
    "\n",
    "np.savetxt('x_init_hhe_1.txt', samples[:112])\n",
    "\n",
    "print(loss)"
   ]
  },
  {
   "cell_type": "code",
   "execution_count": 46,
   "metadata": {},
   "outputs": [
    {
     "name": "stdout",
     "output_type": "stream",
     "text": [
      "63.51494855628282\n"
     ]
    }
   ],
   "source": [
    "loss = np.loadtxt('loss_hhe_1.txt')\n",
    "\n",
    "print(loss.min())\n"
   ]
  },
  {
   "cell_type": "code",
   "execution_count": 80,
   "metadata": {},
   "outputs": [
    {
     "name": "stdout",
     "output_type": "stream",
     "text": [
      "[[0.0000000e+00 0.0000000e+00]\n",
      " [1.6666671e-01 4.0000000e-04]\n",
      " [3.3333340e-01 5.7000000e-03]\n",
      " [5.0000007e-01 2.1800000e-02]\n",
      " [6.6666672e-01 4.2300000e-02]\n",
      " [8.3333336e-01 6.1400000e-02]\n",
      " [1.0000000e+00 6.9200000e-02]]\n",
      "[0.     0.0059 0.0427 0.0692 0.0427 0.0059 0.0001]\n"
     ]
    },
    {
     "data": {
      "text/plain": [
       "<matplotlib.legend.Legend at 0x174bb6890>"
      ]
     },
     "execution_count": 80,
     "metadata": {},
     "output_type": "execute_result"
    },
    {
     "data": {
      "image/png": "[encoded data removed]",
      "text/plain": [
       "<Figure size 640x480 with 1 Axes>"
      ]
     },
     "metadata": {},
     "output_type": "display_data"
    }
   ],
   "source": [
    "from scipy.interpolate import CubicSpline, Akima1DInterpolator\n",
    "from scipy.optimize import minimize\n",
    "\n",
    "with open('log.lammps', 'r') as file:\n",
    "    log = file.readlines()\n",
    "\n",
    "nprocs = int(log[1].split()[2])\n",
    "\n",
    "data = np.array([float(_str) for _str in log[-1].split()[9:]])\n",
    "\n",
    "data = data.reshape(len(data)//2, 2)\n",
    "\n",
    "data[:, 1] -= data[:,1].min()\n",
    "\n",
    "print(data)\n",
    "tet_tet = np.array([[0.0000000e+00, 0.0000000e+00],\n",
    "                    [1.6666671e-01, 4.0000000e-04],\n",
    "                    [3.3333340e-01, 5.7000000e-03],\n",
    "                    [5.0000007e-01, 2.1800000e-02],\n",
    "                    [6.6666672e-01, 4.2300000e-02],\n",
    "                    [8.3333336e-01, 6.1400000e-02],\n",
    "                    [1.0000000e+00, 6.9200000e-02]])\n",
    "\n",
    "# tet_tet[:, 0] /= 2\n",
    "# tet_tet_2 = np.copy(tet_tet)\n",
    "# tet_tet_2[:,0] += 0.5\n",
    "# tet_tet_2[:, 1] = tet_tet_2[::-1, 1]\n",
    "\n",
    "# tet_tet = np.vstack([tet_tet, tet_tet_2[1:,:]])\n",
    "\n",
    "dft = np.array([\n",
    "        [0                   ,0                    ],\n",
    "        [0.16863008454098702 ,0.015665027420405313 ],\n",
    "        [0.33422246769304154 ,0.04342712590732753  ],\n",
    "        [0.49901149180008914 ,0.060494794370557756 ],\n",
    "        [0.666988847117008\t ,0.04327798910735018  ],\n",
    "        [0.8325372965712887\t ,0.0162880039266398   ],\n",
    "        [1                   ,0                    ]\n",
    "        ])\n",
    "        \n",
    "cs = CubicSpline(tet_tet[:,0], tet_tet[:,1])\n",
    "\n",
    "x = np.linspace(0, 1, 100)\n",
    "\n",
    "y = cs(x)\n",
    "cs = CubicSpline(dft[:,0], dft[:,1])\n",
    "\n",
    "plt.plot(x, y, label='eam')\n",
    "plt.plot(x, cs(x), label='dft')\n",
    "plt.scatter(tet_tet[:, 0], tet_tet[:, 1])\n",
    "plt.scatter(dft[:, 0], dft[:, 1])\n",
    "\n",
    "plt.title('Helium Tet-Tet Migration Barrier - Interstitial')\n",
    "\n",
    "plt.xlabel('Reaction Coordinate')\n",
    "plt.ylabel('Energy /eV')\n",
    "\n",
    "print(tet_tet[:, 1])\n",
    "plt.legend()"
   ]
  },
  {
   "cell_type": "code",
   "execution_count": 74,
   "metadata": {},
   "outputs": [
    {
     "name": "stdout",
     "output_type": "stream",
     "text": [
      "[[0.         0.        ]\n",
      " [0.16666669 0.001     ]\n",
      " [0.33333337 0.0121    ]\n",
      " [0.50000003 0.0453    ]\n",
      " [0.6666667  0.1097    ]\n",
      " [0.83333335 0.18      ]\n",
      " [1.         0.2098    ]]\n",
      "[[0.         0.        ]\n",
      " [0.16666669 0.001     ]\n",
      " [0.33333337 0.0121    ]\n",
      " [0.50000003 0.0453    ]\n",
      " [0.6666667  0.1097    ]\n",
      " [0.83333335 0.18      ]\n",
      " [1.         0.2098    ]]\n"
     ]
    },
    {
     "data": {
      "image/png": "[encoded data removed]",
      "text/plain": [
       "<Figure size 640x480 with 1 Axes>"
      ]
     },
     "metadata": {},
     "output_type": "display_data"
    }
   ],
   "source": [
    "\n",
    "with open('log.lammps', 'r') as file:\n",
    "    log = file.readlines()\n",
    "\n",
    "nprocs = int(log[1].split()[2])\n",
    "\n",
    "data = np.array([float(_str) for _str in log[-1].split()[9:]])\n",
    "\n",
    "data = data.reshape(len(data)//2, 2)\n",
    "\n",
    "data[:, 1] -= data[:,1].min()\n",
    "\n",
    "print(data)\n",
    "tet_oct = np.array([[0.         ,0.        ],\n",
    "                    [0.16666669 ,0.001     ],\n",
    "                    [0.33333337 ,0.0121    ],\n",
    "                    [0.50000003 ,0.0453    ],\n",
    "                    [0.6666667  ,0.1097    ],\n",
    "                    [0.83333335 ,0.18      ],\n",
    "                    [1.         ,0.2098    ],])\n",
    "\n",
    "tet_oct[:, 0] /= 2\n",
    "tet_oct_2 = np.copy(tet_oct)\n",
    "tet_oct_2[:,0] += 0.5\n",
    "tet_oct_2[:, 1] = tet_oct_2[::-1, 1]\n",
    "\n",
    "tet_oct = np.vstack([tet_oct, tet_oct_2[1:,:]])\n",
    "\n",
    "cs = CubicSpline(tet_oct[:,0], tet_oct[:,1])\n",
    "\n",
    "x = np.linspace(0, 1, 100)\n",
    "\n",
    "y = cs(x)\n",
    "\n",
    "plt.plot(x, y)\n",
    "plt.scatter(tet_oct[:, 0], tet_oct[:, 1])\n",
    "plt.title('Helium Tet-Oct Migration Barrier - Interstitial')\n",
    "\n",
    "plt.xlabel('Reaction Coordinate')\n",
    "plt.ylabel('Energy /eV')\n",
    "\n",
    "print(data)"
   ]
  },
  {
   "cell_type": "code",
   "execution_count": 49,
   "metadata": {},
   "outputs": [
    {
     "name": "stdout",
     "output_type": "stream",
     "text": [
      "[[0.         0.        ]\n",
      " [0.16666669 0.001     ]\n",
      " [0.33333337 0.0121    ]\n",
      " [0.50000003 0.0453    ]\n",
      " [0.6666667  0.1097    ]\n",
      " [0.83333335 0.18      ]\n",
      " [1.         0.2098    ]]\n"
     ]
    },
    {
     "data": {
      "text/plain": [
       "Text(0, 0.5, 'Energy /eV')"
      ]
     },
     "execution_count": 49,
     "metadata": {},
     "output_type": "execute_result"
    },
    {
     "data": {
      "image/png": "[encoded data removed]",
      "text/plain": [
       "<Figure size 640x480 with 1 Axes>"
      ]
     },
     "metadata": {},
     "output_type": "display_data"
    }
   ],
   "source": [
    "\n",
    "with open('log.lammps', 'r') as file:\n",
    "    log = file.readlines()\n",
    "\n",
    "nprocs = int(log[1].split()[2])\n",
    "\n",
    "data = np.array([float(_str) for _str in log[-1].split()[9:]])\n",
    "\n",
    "data = data.reshape(len(data)//2, 2)\n",
    "\n",
    "data[:, 1] -= data[:,1].min()\n",
    "\n",
    "cs = Akima1DInterpolator(data[:,0], data[:,1])\n",
    "\n",
    "x = np.linspace(0, 1, 100)\n",
    "\n",
    "y = cs(x)\n",
    "\n",
    "plt.plot(x, y)\n",
    "plt.scatter(data[:,0], data[:,1])\n",
    "print(data)\n",
    "\n",
    "plt.title('Min Energy Pathway for a interstitial Di-Helium Cluster to dissociate')\n",
    "plt.xlabel('Reaction Co-ordinate')\n",
    "plt.ylabel('Energy /eV')"
   ]
  },
  {
   "cell_type": "code",
   "execution_count": 50,
   "metadata": {},
   "outputs": [
    {
     "data": {
      "text/plain": [
       "(28, 5000)"
      ]
     },
     "execution_count": 50,
     "metadata": {},
     "output_type": "execute_result"
    }
   ],
   "source": [
    "import os\n",
    "data = []\n",
    "temp = np.linspace(100, 2000, 28)\n",
    "for _temp in temp:\n",
    "    folder = 'He_Diffusion_CSD3/Temp_%d' % _temp\n",
    "    _data = []\n",
    "    for file in glob.glob(folder + '/*'):\n",
    "\n",
    "        __data = np.load(file)\n",
    "\n",
    "        _data.append(__data)\n",
    "    _data = np.array(_data)\n",
    "\n",
    "    data.append(np.mean(_data, axis=0))\n",
    "\n",
    "data = np.array(data)\n",
    "\n",
    "data.shape\n"
   ]
  },
  {
   "cell_type": "code",
   "execution_count": 51,
   "metadata": {},
   "outputs": [
    {
     "data": {
      "text/plain": [
       "array([1.83312285e-10, 8.56170396e-10, 1.84216091e-09, 3.08283448e-09,\n",
       "       3.75831930e-09, 6.71083086e-09, 7.66105527e-09, 8.84874100e-09,\n",
       "       1.03541098e-08, 1.00969020e-08, 1.07411325e-08, 1.02821020e-08,\n",
       "       1.08792512e-08, 1.45948867e-08, 1.63224412e-08, 1.59765879e-08,\n",
       "       1.71796580e-08, 1.41133013e-08, 1.54731393e-08, 1.82003526e-08,\n",
       "       1.79692210e-08, 1.90729901e-08, 2.10350462e-08, 2.21626603e-08,\n",
       "       2.37007652e-08, 2.22648920e-08, 2.58750976e-08, 2.87802682e-08])"
      ]
     },
     "execution_count": 51,
     "metadata": {},
     "output_type": "execute_result"
    }
   ],
   "source": [
    "diff = []\n",
    "x = np.arange(data.shape[1])\n",
    "\n",
    "diff = data[:,1:] / x[1:]\n",
    "\n",
    "diff = np.mean(diff,axis = 1)\n",
    "\n",
    "diff *= 1e-10 ** 2 / 1e-12\n",
    "diff"
   ]
  },
  {
   "cell_type": "code",
   "execution_count": 52,
   "metadata": {},
   "outputs": [],
   "source": [
    "# diff = []\n",
    "# x = np.arange(data.shape[1])\n",
    "\n",
    "# for i in range(data.shape[0]):\n",
    "#     diff.append(np.polyfit(x[1000:], data[i, 1000:], deg =1))\n",
    "\n",
    "# # diff = data[:, -1]/5000\n",
    "# diff = np.array(diff)[:, 0]\n",
    "\n",
    "# diff *= 1e-10 ** 2 / 1e-12"
   ]
  },
  {
   "cell_type": "code",
   "execution_count": 53,
   "metadata": {},
   "outputs": [
    {
     "data": {
      "text/plain": [
       "Text(0, 0.5, 'ln(D / $ms^{-1}$)')"
      ]
     },
     "execution_count": 53,
     "metadata": {},
     "output_type": "execute_result"
    },
    {
     "data": {
      "image/png": "[encoded data removed]",
      "text/plain": [
       "<Figure size 640x480 with 1 Axes>"
      ]
     },
     "metadata": {},
     "output_type": "display_data"
    }
   ],
   "source": [
    "kB = 8.617333262e-5\n",
    "\n",
    "# x_plt = 1 / (kB * temp)\n",
    "\n",
    "x_plt = 1e4 / temp\n",
    "\n",
    "y_plt = np.log(diff)\n",
    "\n",
    "plt.scatter(x_plt, y_plt)\n",
    "plt.xlabel(r'$\\frac{1}{k_b T}$', fontsize=16)\n",
    "plt.ylabel(r'ln(D / $ms^{-1}$)', fontsize=12)\n"
   ]
  },
  {
   "cell_type": "code",
   "execution_count": 54,
   "metadata": {},
   "outputs": [
    {
     "data": {
      "text/plain": [
       "array([ -0.04822541, -17.84866933])"
      ]
     },
     "execution_count": 54,
     "metadata": {},
     "output_type": "execute_result"
    }
   ],
   "source": [
    "np.polyfit(x_plt[:12], y_plt[:12], deg = 1)"
   ]
  },
  {
   "cell_type": "code",
   "execution_count": 55,
   "metadata": {},
   "outputs": [
    {
     "data": {
      "text/plain": [
       "(28, 25000)"
      ]
     },
     "execution_count": 55,
     "metadata": {},
     "output_type": "execute_result"
    }
   ],
   "source": [
    "data = []\n",
    "temp = np.linspace(100, 3000, 28)\n",
    "for _temp in temp:\n",
    "    folder = 'He_Diffusion_1/Temp_%d' % _temp\n",
    "    _data = []\n",
    "    for file in glob.glob(folder + '/*'):\n",
    "\n",
    "        __data = np.load(file)\n",
    "\n",
    "        _data.append(__data)\n",
    "    _data = np.array(_data)\n",
    "\n",
    "    data.append(np.mean(_data, axis=0))\n",
    "\n",
    "data = np.array(data)\n",
    "\n",
    "data.shape\n"
   ]
  },
  {
   "cell_type": "code",
   "execution_count": 56,
   "metadata": {},
   "outputs": [
    {
     "data": {
      "text/plain": [
       "array([7.76325773e-11, 9.59726666e-10, 2.90816974e-09, 5.94232992e-09,\n",
       "       4.57785645e-09, 9.10604172e-09, 1.33540771e-08, 1.12632325e-08,\n",
       "       1.45732563e-08, 1.46192695e-08, 1.56147654e-08, 1.50384097e-08,\n",
       "       2.30259391e-08, 1.39710267e-08, 1.50815852e-08, 2.18898445e-08,\n",
       "       2.30591421e-08, 2.46490217e-08, 2.70211477e-08, 2.43463389e-08,\n",
       "       2.79424029e-08, 2.15397530e-08, 2.43506039e-08, 3.24837578e-08,\n",
       "       4.20667217e-08, 3.29359434e-08, 4.50445551e-08, 2.92359820e-08])"
      ]
     },
     "execution_count": 56,
     "metadata": {},
     "output_type": "execute_result"
    }
   ],
   "source": [
    "x = np.arange(data.shape[1])\n",
    "\n",
    "diff = data[:,1:] / x[1:]\n",
    "\n",
    "diff = np.mean(diff,axis = 1)\n",
    "\n",
    "diff *= 1e-10 ** 2 / 1e-12\n",
    "diff"
   ]
  },
  {
   "cell_type": "code",
   "execution_count": 57,
   "metadata": {},
   "outputs": [],
   "source": [
    "# diff = []\n",
    "# x = np.arange(data.shape[1])\n",
    "\n",
    "# for i in range(data.shape[0]):\n",
    "#     diff.append(np.polyfit(x[2500:], data[i, 2500:], deg =1))\n",
    "\n",
    "# # diff = data[:, -1]/5000\n",
    "# diff = np.array(diff)[:, 0]\n",
    "\n",
    "# diff *= 1e-10 ** 2 / 1e-12"
   ]
  },
  {
   "cell_type": "code",
   "execution_count": 58,
   "metadata": {},
   "outputs": [
    {
     "data": {
      "text/plain": [
       "Text(0, 0.5, 'ln(D / $ms^{-1}$)')"
      ]
     },
     "execution_count": 58,
     "metadata": {},
     "output_type": "execute_result"
    },
    {
     "data": {
      "image/png": "[encoded data removed]",
      "text/plain": [
       "<Figure size 640x480 with 1 Axes>"
      ]
     },
     "metadata": {},
     "output_type": "display_data"
    }
   ],
   "source": [
    "kB = 8.617333262e-5\n",
    "\n",
    "x_plt = 1 / (kB * temp)\n",
    "\n",
    "# x_plt = 1e4 / temp\n",
    "\n",
    "y_plt = np.log(diff)\n",
    "\n",
    "plt.plot(x_plt, y_plt, 'o')\n",
    "\n",
    "plt.scatter(x_plt, y_plt)\n",
    "plt.xlabel(r'$\\frac{1}{k_b T}$', fontsize=16)\n",
    "plt.ylabel(r'ln(D / $ms^{-1}$)', fontsize=12)\n"
   ]
  },
  {
   "cell_type": "code",
   "execution_count": 59,
   "metadata": {},
   "outputs": [
    {
     "data": {
      "text/plain": [
       "array([ -0.04593884, -17.99571035])"
      ]
     },
     "execution_count": 59,
     "metadata": {},
     "output_type": "execute_result"
    }
   ],
   "source": [
    "np.polyfit(x_plt[:5], y_plt[:5], deg = 1)"
   ]
  },
  {
   "cell_type": "code",
   "execution_count": 60,
   "metadata": {},
   "outputs": [
    {
     "data": {
      "text/plain": [
       "(28, 10000)"
      ]
     },
     "execution_count": 60,
     "metadata": {},
     "output_type": "execute_result"
    }
   ],
   "source": [
    "data = []\n",
    "temp = np.linspace(100, 3000, 28)\n",
    "for _temp in temp:\n",
    "    folder = 'He_Diffusion_2/Temp_%d' % _temp\n",
    "    _data = []\n",
    "    for file in glob.glob(folder + '/*'):\n",
    "\n",
    "        __data = np.load(file)\n",
    "\n",
    "        _data.append(__data)\n",
    "    _data = np.array(_data)\n",
    "\n",
    "    data.append(np.mean(_data, axis=0))\n",
    "\n",
    "data = np.array(data)\n",
    "\n",
    "data.shape\n"
   ]
  },
  {
   "cell_type": "code",
   "execution_count": 61,
   "metadata": {},
   "outputs": [
    {
     "data": {
      "text/plain": [
       "array([8.77283899e-11, 1.01855652e-09, 2.80759496e-09, 5.50605486e-09,\n",
       "       8.30858217e-09, 1.11824226e-08, 1.19332141e-08, 1.61717327e-08,\n",
       "       1.98005043e-08, 2.08848208e-08, 1.94212337e-08, 2.24536589e-08,\n",
       "       2.49356528e-08, 2.53604043e-08, 2.56524451e-08, 2.69229994e-08,\n",
       "       2.62675640e-08, 2.87932709e-08, 3.25705515e-08, 3.19263872e-08,\n",
       "       3.51537629e-08, 3.70375470e-08, 3.70778714e-08, 3.48159727e-08,\n",
       "       3.98241054e-08, 3.88265087e-08, 4.91625823e-08, 4.52332123e-08])"
      ]
     },
     "execution_count": 61,
     "metadata": {},
     "output_type": "execute_result"
    }
   ],
   "source": [
    "x = np.arange(data.shape[1])\n",
    "\n",
    "diff = data[:,1:] / x[1:]\n",
    "\n",
    "diff = np.mean(diff,axis = 1)\n",
    "\n",
    "diff *= 1e-10 ** 2 / 1e-12\n",
    "diff"
   ]
  },
  {
   "cell_type": "code",
   "execution_count": 62,
   "metadata": {},
   "outputs": [
    {
     "data": {
      "text/plain": [
       "Text(0, 0.5, 'ln(D / $ms^{-1}$)')"
      ]
     },
     "execution_count": 62,
     "metadata": {},
     "output_type": "execute_result"
    },
    {
     "data": {
      "image/png": "[encoded data removed]",
      "text/plain": [
       "<Figure size 640x480 with 1 Axes>"
      ]
     },
     "metadata": {},
     "output_type": "display_data"
    }
   ],
   "source": [
    "kB = 8.617333262e-5\n",
    "\n",
    "x_plt = 1 / (kB * temp)\n",
    "\n",
    "# x_plt = 1e4 / temp\n",
    "\n",
    "y_plt = np.log(diff)\n",
    "\n",
    "plt.plot(x_plt, y_plt, 'o')\n",
    "\n",
    "plt.scatter(x_plt, y_plt)\n",
    "plt.xlabel(r'$\\frac{1}{k_b T}$', fontsize=16)\n",
    "plt.ylabel(r'ln(D / $ms^{-1}$)', fontsize=12)\n"
   ]
  },
  {
   "cell_type": "code",
   "execution_count": 63,
   "metadata": {},
   "outputs": [
    {
     "data": {
      "text/plain": [
       "array([ -0.05773385, -17.03060311])"
      ]
     },
     "execution_count": 63,
     "metadata": {},
     "output_type": "execute_result"
    }
   ],
   "source": [
    "np.polyfit(x_plt, y_plt, deg = 1)"
   ]
  },
  {
   "cell_type": "code",
   "execution_count": 64,
   "metadata": {},
   "outputs": [
    {
     "data": {
      "text/plain": [
       "Text(0, 0.5, 'ln(D / $ms^{-1}$)')"
      ]
     },
     "execution_count": 64,
     "metadata": {},
     "output_type": "execute_result"
    },
    {
     "data": {
      "image/png": "[encoded data removed]",
      "text/plain": [
       "<Figure size 640x480 with 1 Axes>"
      ]
     },
     "metadata": {},
     "output_type": "display_data"
    }
   ],
   "source": [
    "data = []\n",
    "temp = np.linspace(100, 3000, 28)\n",
    "for _temp in temp:\n",
    "    folder = 'He_Diffusion_3/Temp_%d' % _temp\n",
    "    _data = []\n",
    "    for file in glob.glob(folder + '/*'):\n",
    "\n",
    "        __data = np.load(file)\n",
    "\n",
    "        _data.append(__data)\n",
    "    _data = np.array(_data)\n",
    "\n",
    "    data.append(np.mean(_data, axis=0))\n",
    "\n",
    "data = np.array(data)\n",
    "\n",
    "x = np.arange(data.shape[1])\n",
    "\n",
    "diff = data[:,1:] / x[1:]\n",
    "\n",
    "diff = np.mean(diff,axis = 1)\n",
    "\n",
    "diff *= 1e-10 ** 2 / 1e-12\n",
    "\n",
    "kB = 8.617333262e-5\n",
    "\n",
    "x_plt = 1 / (kB * temp)\n",
    "\n",
    "# x_plt = 1e4 / temp\n",
    "\n",
    "y_plt = np.log(diff)\n",
    "\n",
    "plt.plot(x_plt, y_plt, 'o')\n",
    "\n",
    "plt.scatter(x_plt, y_plt)\n",
    "plt.xlabel(r'$\\frac{1}{k_b T}$', fontsize=16)\n",
    "plt.ylabel(r'ln(D / $ms^{-1}$)', fontsize=12)\n"
   ]
  },
  {
   "cell_type": "code",
   "execution_count": 65,
   "metadata": {},
   "outputs": [
    {
     "data": {
      "text/plain": [
       "array([ -0.05213393, -17.39565346])"
      ]
     },
     "execution_count": 65,
     "metadata": {},
     "output_type": "execute_result"
    }
   ],
   "source": [
    "np.polyfit(x_plt[:10], y_plt[:10], deg = 1)"
   ]
  },
  {
   "cell_type": "code",
   "execution_count": 66,
   "metadata": {},
   "outputs": [
    {
     "name": "stdout",
     "output_type": "stream",
     "text": [
      "[0.00877284 0.10185565 0.2807595  0.55060549 0.83085822 1.11824226\n",
      " 1.19332141 1.61717327 1.98005043 2.08848208 2.00308524 2.29422058\n",
      " 2.59021304 2.68449865 2.51580626 2.83948229 2.68316332 2.89579307\n",
      " 3.24238367 3.43257133 3.61695789 3.79850407 3.69313355 3.5730577\n",
      " 3.97067859 4.11101459 4.97696087 4.49788973]\n",
      "[ 100.          207.40740741  314.81481481  422.22222222  529.62962963\n",
      "  637.03703704  744.44444444  851.85185185  959.25925926 1066.66666667\n",
      " 1174.07407407 1281.48148148 1388.88888889 1496.2962963  1603.7037037\n",
      " 1711.11111111 1818.51851852 1925.92592593 2033.33333333 2140.74074074\n",
      " 2248.14814815 2355.55555556 2462.96296296 2570.37037037 2677.77777778\n",
      " 2785.18518519 2892.59259259 3000.        ]\n"
     ]
    },
    {
     "data": {
      "image/png": "[encoded data removed]",
      "text/plain": [
       "<Figure size 640x480 with 1 Axes>"
      ]
     },
     "metadata": {},
     "output_type": "display_data"
    }
   ],
   "source": [
    "data = []\n",
    "temp = np.linspace(100, 3000, 28)\n",
    "for _temp in temp:\n",
    "    _data = []\n",
    "\n",
    "    for i in range(3,4):\n",
    "        folder = 'He_Diffusion_%d/Temp_%d' % (i, _temp)\n",
    "        for file in glob.glob(folder + '/*'):\n",
    "\n",
    "            __data = np.load(file)\n",
    "\n",
    "            _data.append(__data)\n",
    "    _data = np.array(_data)\n",
    "\n",
    "    data.append(np.mean(_data, axis=0))\n",
    "\n",
    "data = np.array(data)\n",
    "\n",
    "x = np.arange(data.shape[1])\n",
    "\n",
    "diff = data[:,1:] / x[1:]\n",
    "\n",
    "diff = np.mean(diff,axis = 1)\n",
    "\n",
    "print(diff)\n",
    "diff *= 1e-10 ** 2 / 1e-12\n",
    "\n",
    "kB = 8.617333262e-5\n",
    "\n",
    "x_plt = 1 / (kB * temp)\n",
    "\n",
    "# x_plt = 1e4 / temp\n",
    "\n",
    "y_plt = np.log(diff)\n",
    "\n",
    "# x_plt = x_plt[1:]\n",
    "# y_plt = y_plt[1:]\n",
    "\n",
    "plt.plot(x_plt, y_plt, 'o')\n",
    "\n",
    "plt.scatter(x_plt, y_plt)\n",
    "plt.xlabel(r'$\\frac{1}{k_b T}$', fontsize=16)\n",
    "plt.ylabel(r'ln(D / $ms^{-1}$)', fontsize=12)\n",
    "\n",
    "print(temp)"
   ]
  },
  {
   "cell_type": "code",
   "execution_count": 67,
   "metadata": {},
   "outputs": [
    {
     "data": {
      "text/plain": [
       "array([ -0.18338194, -16.21095866])"
      ]
     },
     "execution_count": 67,
     "metadata": {},
     "output_type": "execute_result"
    }
   ],
   "source": [
    "np.polyfit(x_plt[-10:], y_plt[-10:], deg = 1)"
   ]
  },
  {
   "cell_type": "code",
   "execution_count": 68,
   "metadata": {},
   "outputs": [
    {
     "name": "stdout",
     "output_type": "stream",
     "text": [
      " message: Optimization terminated successfully.\n",
      " success: True\n",
      "  status: 0\n",
      "     fun: 0.3224813460731406\n",
      "       x: [ 5.165e+00  2.424e-04 -8.162e-02 -1.695e+01]\n",
      "     nit: 12\n",
      "   direc: [[ 3.660e+01 -8.933e-04  1.073e-01 -1.796e+00]\n",
      "           [ 3.112e+02  4.297e-03 -2.039e-01 -7.317e+00]\n",
      "           [ 0.000e+00  0.000e+00  1.000e+00  0.000e+00]\n",
      "           [-5.893e-01  3.145e-05 -5.241e-03  1.416e-01]]\n",
      "    nfev: 571\n"
     ]
    }
   ],
   "source": [
    "from scipy.optimize import minimize\n",
    "def func(w, x):\n",
    "\n",
    "    y = np.polyval(w[1:], x) + w[0]/x ** 2\n",
    "    return y\n",
    "\n",
    "def dfunc(w, x):\n",
    "\n",
    "    w_ = np.polyder(w[1:], m=1) \n",
    "    \n",
    "    y = np.polyval(w_, x) - 2 * w[0] /x**3\n",
    "\n",
    "    return y\n",
    "\n",
    "def loss(x, x_d, y_d):\n",
    "\n",
    "    y_p = func(x, x_d)\n",
    "\n",
    "    return np.linalg.norm(y_p - y_d)\n",
    "\n",
    "# x0 = np.array([-0.07377641, -16.97890623, -0.18338194, -16.21095866, 1 ])\n",
    "res = minimize(loss, x0=np.random.rand(4), args=(x_plt, y_plt), method='Powell')\n",
    "\n",
    "print(res)"
   ]
  },
  {
   "cell_type": "code",
   "execution_count": 69,
   "metadata": {},
   "outputs": [
    {
     "data": {
      "text/plain": [
       "<matplotlib.collections.PathCollection at 0x16a62b050>"
      ]
     },
     "execution_count": 69,
     "metadata": {},
     "output_type": "execute_result"
    },
    {
     "data": {
      "image/png": "[encoded data removed]",
      "text/plain": [
       "<Figure size 640x480 with 1 Axes>"
      ]
     },
     "metadata": {},
     "output_type": "display_data"
    }
   ],
   "source": [
    "x = np.linspace(0.75*x_plt.min(), 1.25*x_plt.max(), 200)\n",
    "y = func(res.x, x)\n",
    "\n",
    "plt.plot(x, y)\n",
    "plt.scatter(x_plt, y_plt)"
   ]
  },
  {
   "cell_type": "code",
   "execution_count": 70,
   "metadata": {},
   "outputs": [
    {
     "name": "stdout",
     "output_type": "stream",
     "text": [
      "38.61855339761816 -0.0630834683654508\n"
     ]
    },
    {
     "data": {
      "image/png": "[encoded data removed]",
      "text/plain": [
       "<Figure size 640x480 with 1 Axes>"
      ]
     },
     "metadata": {},
     "output_type": "display_data"
    }
   ],
   "source": [
    "x = np.linspace(0.75*x_plt.min(), 1.25*x_plt.max(), 200)\n",
    "dy = dfunc(res.x, x)\n",
    "plt.plot(x, dy)\n",
    "\n",
    "print(x[-150], dy[-150])"
   ]
  },
  {
   "cell_type": "code",
   "execution_count": 71,
   "metadata": {},
   "outputs": [],
   "source": [
    "T = 1000\n",
    "\n",
    "beta = 1/(kB * T)\n",
    "\n",
    "Ea = 4.6\n",
    "\n",
    "arr_fac = np.exp(-beta * Ea)\n",
    "\n",
    "v0 = 1e13\n",
    "\n",
    "Emelt = 8\n",
    "\n",
    "Ed = 100\n",
    "\n",
    "phi = 1"
   ]
  },
  {
   "cell_type": "code",
   "execution_count": 72,
   "metadata": {},
   "outputs": [
    {
     "data": {
      "text/plain": [
       "3.0"
      ]
     },
     "execution_count": 72,
     "metadata": {},
     "output_type": "execute_result"
    }
   ],
   "source": [
    "appm = 3000/0.2\n",
    "\n",
    "appm * 0.0002"
   ]
  }
 ],
 "metadata": {
  "kernelspec": {
   "display_name": "lammps",
   "language": "python",
   "name": "python3"
  },
  "language_info": {
   "codemirror_mode": {
    "name": "ipython",
    "version": 3
   },
   "file_extension": ".py",
   "mimetype": "text/x-python",
   "name": "python",
   "nbconvert_exporter": "python",
   "pygments_lexer": "ipython3",
   "version": "3.11.8"
  }
 },
 "nbformat": 4,
 "nbformat_minor": 2
}
