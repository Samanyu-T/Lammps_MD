{
 "cells": [
  {
   "cell_type": "code",
   "execution_count": 24,
   "metadata": {},
   "outputs": [],
   "source": [
    "import numpy as np"
   ]
  },
  {
   "cell_type": "code",
   "execution_count": 30,
   "metadata": {},
   "outputs": [
    {
     "name": "stdout",
     "output_type": "stream",
     "text": [
      "v  h  he  ef_old  ef_new  ef_diff\n",
      "[0.35378029] 0.3249140913056384 [6.20242227] 6.134995466271903\n"
     ]
    }
   ],
   "source": [
    "old = np.loadtxt('test_4x4_old_cg.txt')\n",
    "new = np.loadtxt('test_4x4_new.txt')\n",
    "print('v  h  he  ef_old  ef_new  ef_diff')\n",
    "for _n in new:\n",
    "    v, h, he, ef, rvol = _n\n",
    "\n",
    "    idx = (old[:, 0] == v) & (old[:, 1] == h) & (old[:, 2] == he)\n",
    "\n",
    "    ef_old = old[idx, 3]\n",
    "\n",
    "    rvol_old = old[idx, 4]\n",
    "\n",
    "    # if abs(ef_old - ef) > 0.1:\n",
    "    #     print('%d, %d, %d,  %.2f,   %.2f,   %.2f' % (v, h, he, ef_old, ef, ef_old - ef) )\n",
    "\n",
    "    # if abs(rvol_old - rvol) > 0.05:\n",
    "    #     print('%d, %d, %d,  %.2f,   %.2f,   %.2f' % (v, h, he, rvol_old, rvol, rvol_old - rvol) )\n",
    "\n",
    "    if (v == 0) and (h == 0) and (he == 1):\n",
    "\n",
    "        print(rvol_old, rvol, ef_old, ef)\n"
   ]
  }
 ],
 "metadata": {
  "kernelspec": {
   "display_name": "base",
   "language": "python",
   "name": "python3"
  },
  "language_info": {
   "codemirror_mode": {
    "name": "ipython",
    "version": 3
   },
   "file_extension": ".py",
   "mimetype": "text/x-python",
   "name": "python",
   "nbconvert_exporter": "python",
   "pygments_lexer": "ipython3",
   "version": "3.1.-1"
  }
 },
 "nbformat": 4,
 "nbformat_minor": 2
}
